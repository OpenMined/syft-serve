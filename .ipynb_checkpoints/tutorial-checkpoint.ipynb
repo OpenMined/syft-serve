{
 "cells": [
  {
   "cell_type": "markdown",
   "metadata": {},
   "source": [
    "# SyftServe Tutorial: Simple, Stateless, FastAPI Server Management\n",
    "\n",
    "Welcome to SyftServe! This tutorial will teach you how to easily create and manage stateless FastAPI servers on the syft:// network.\n",
    "\n",
    "## Why Stateless?\n",
    "\n",
    "The Syft ecosystem is designed to use the distributed/private filesystem (syft://) as state. SyftServe is built making this assumption. You'll launch servers with file-backed objects.\n",
    "\n",
    "## What is SyftServe?\n",
    "\n",
    "SyftServe provides the simplest possible API for launching and managing FastAPI servers:\n",
    "- **`ss.create()`** - Launch a new server\n",
    "- **`ss.servers`** - View all servers\n",
    "- **`ss.servers['server_name']`** - Select a server\n",
    "- **`ss.servers['server_name'].<property>`** - View the server (logs, process, state, etc.)\n",
    "- **`ss.servers['server_name'].terminate()`** - Tear down the server\n",
    "  \n"
   ]
  },
  {
   "cell_type": "markdown",
   "metadata": {},
   "source": [
    "# Step 1: Install syft-serve\n",
    "\n",
    "First, let's import SyftServe:"
   ]
  },
  {
   "cell_type": "code",
   "execution_count": 1,
   "metadata": {},
   "outputs": [
    {
     "name": "stdout",
     "output_type": "stream",
     "text": [
      "\u001b[2mUninstalled \u001b[1m1 package\u001b[0m \u001b[2min 3ms\u001b[0m\u001b[0m\n",
      " \u001b[31m-\u001b[39m \u001b[1msyft-serve\u001b[0m\u001b[2m==0.1.0 (from file:///Users/atrask/Desktop/Laboratory/syft-serve)\u001b[0m\n",
      "\u001b[2K\u001b[2mResolved \u001b[1m45 packages\u001b[0m \u001b[2min 16ms\u001b[0m\u001b[0m                                         \u001b[0m\n",
      "\u001b[2K\u001b[2mInstalled \u001b[1m1 package\u001b[0m \u001b[2min 1ms\u001b[0m\u001b[0mfrom file:///Users/atrask/Desktop/\u001b[0m\n",
      " \u001b[32m+\u001b[39m \u001b[1msyft-serve\u001b[0m\u001b[2m==0.1.0 (from file:///Users/atrask/Desktop/Laboratory/syft-serve)\u001b[0m\n"
     ]
    }
   ],
   "source": [
    "!uv pip uninstall syft-serve\n",
    "!uv pip install syft-serve\n",
    "# !uv pip install -e ."
   ]
  },
  {
   "cell_type": "code",
   "execution_count": 1,
   "metadata": {},
   "outputs": [],
   "source": [
    "import syft_serve as ss\n",
    "\n",
    "ss.__version__\n",
    "\n",
    "# cleanup old notebook run (if necessary)\n",
    "ss.servers.terminate_all()"
   ]
  },
  {
   "cell_type": "markdown",
   "metadata": {},
   "source": [
    "# Step 2: Create your first server\n",
    "\n",
    "Creating a server is simple. You need:\n",
    "1. A **name** for your server\n",
    "2. **Endpoints** - Python functions that handle requests"
   ]
  },
  {
   "cell_type": "code",
   "execution_count": 2,
   "metadata": {},
   "outputs": [],
   "source": [
    "# Define a simple endpoint function\n",
    "def hello():\n",
    "    return {\"message\": \"Hello from SyftServe!\", \"status\": \"success\"}\n",
    "\n",
    "# Create the server\n",
    "server = ss.create(\n",
    "    name=\"hello_api\",\n",
    "    endpoints={\"/hello\": hello}\n",
    ")"
   ]
  },
  {
   "cell_type": "code",
   "execution_count": 3,
   "metadata": {},
   "outputs": [
    {
     "data": {
      "text/html": [
       "\n",
       "        <div style=\"background: #1e1e1e; border: 1px solid #3e3e3e; border-radius: 5px; padding: 15px; font-family: -apple-system, BlinkMacSystemFont, 'Segoe UI', Roboto, sans-serif;\">\n",
       "            <h3 style=\"margin: 0 0 10px 0; color: #e0e0e0;\">🚀 hello_api</h3>\n",
       "            <table style=\"width: 100%; border-collapse: collapse;\">\n",
       "                <tr>\n",
       "                    <td style=\"padding: 5px 10px 5px 0; color: #a0a0a0; vertical-align: top;\">Status:</td>\n",
       "                    <td style=\"padding: 5px 0; color: #27ae60; font-weight: bold;\">✅ Running</td>\n",
       "                </tr>\n",
       "                <tr>\n",
       "                    <td style=\"padding: 5px 10px 5px 0; color: #a0a0a0; vertical-align: top;\">URL:</td>\n",
       "                    <td style=\"padding: 5px 0;\"><a href=\"http://localhost:8000\" target=\"_blank\" style=\"color: #66b3ff; text-decoration: none;\">http://localhost:8000</a></td>\n",
       "                </tr>\n",
       "                <tr>\n",
       "                    <td style=\"padding: 5px 10px 5px 0; color: #a0a0a0; vertical-align: top;\">Endpoints:</td>\n",
       "                    <td style=\"padding: 5px 0; color: #e0e0e0;\"><ul style='margin: 0; padding-left: 20px;'><li><code>/hello</code></li></ul></td>\n",
       "                </tr>\n",
       "                <tr>\n",
       "                    <td style=\"padding: 5px 10px 5px 0; color: #a0a0a0; vertical-align: top;\">Uptime:</td>\n",
       "                    <td style=\"padding: 5px 0; color: #e0e0e0;\">2s</td>\n",
       "                </tr>\n",
       "                <tr>\n",
       "                    <td style=\"padding: 5px 10px 5px 0; color: #a0a0a0; vertical-align: top;\">Expires In:</td>\n",
       "                    <td style=\"padding: 5px 0; font-weight: bold; color: #f59e0b;\">⏰ 23h 59m</td>\n",
       "                </tr>\n",
       "                <tr>\n",
       "                    <td style=\"padding: 5px 10px 5px 0; color: #a0a0a0; vertical-align: top;\">PID:</td>\n",
       "                    <td style=\"padding: 5px 0;\"><code style=\"background: #2d2d2d; padding: 2px 4px; border-radius: 3px; color: #e0e0e0;\">88027</code></td>\n",
       "                </tr>\n",
       "            </table>\n",
       "            \n",
       "            <div style=\"margin-top: 10px; display: grid; grid-template-columns: 1fr 1fr; gap: 10px;\">\n",
       "                <div style=\"padding: 8px; background: #1a1a1a; border-radius: 3px; border: 1px solid #3e3e3e;\">\n",
       "                    <div style=\"color: #a0a0a0; font-size: 11px; margin-bottom: 5px;\">Recent logs:</div>\n",
       "                    <div style=\"font-size: 11px; color: #e0e0e0;\"><span style='color: #9ca3af; font-family: monospace;'>INFO:     127.0.0.1:61940 - \"GET /health HTTP/1.1\" 200 OK</span><br><span style='color: #9ca3af; font-family: monospace;'>INFO:     127.0.0.1:61956 - \"GET /health HTTP/1.1\" 200 OK</span><br><span style='color: #9ca3af; font-family: monospace;'>INFO:     127.0.0.1:61962 - \"GET /health HTTP/1.1\" 200 OK</span></div>\n",
       "                </div>\n",
       "                <div style=\"padding: 8px; background: #1a1a1a; border-radius: 3px; border: 1px solid #3e3e3e;\">\n",
       "                    <div style=\"color: #a0a0a0; font-size: 11px; margin-bottom: 5px;\">Recent errors:</div>\n",
       "                    <div style=\"font-size: 11px;\"><span style='color: #ff6b6b; font-family: monospace;'>INFO:     Waiting for application startup.</span><br><span style='color: #ff6b6b; font-family: monospace;'>INFO:     Application startup complete.</span><br><span style='color: #ff6b6b; font-family: monospace;'>INFO:     Uvicorn running on http://0.0.0.0:8000 (Press CTRL+C to quit)</span></div>\n",
       "                </div>\n",
       "            </div>\n",
       "            \n",
       "            <div style=\"margin-top: 10px; padding-top: 10px; border-top: 1px solid #3e3e3e; font-size: 12px; color: #a0a0a0;\">\n",
       "                Try: <code style=\"background: #2d2d2d; padding: 2px 4px; border-radius: 3px;\">server.stdout.tail(20)</code>, <code style=\"background: #2d2d2d; padding: 2px 4px; border-radius: 3px;\">server.stderr.tail(20)</code>, <code style=\"background: #2d2d2d; padding: 2px 4px; border-radius: 3px;\">server.env</code>, <code style=\"background: #2d2d2d; padding: 2px 4px; border-radius: 3px;\">server.terminate()</code>\n",
       "            </div>\n",
       "        </div>\n",
       "        "
      ],
      "text/plain": [
       "Server: hello_api\n",
       "├── Status: ✅ Running\n",
       "├── URL: http://localhost:8000\n",
       "├── Endpoints: /hello\n",
       "├── Uptime: 2s\n",
       "├── Expires: ⏰ 23h 59m\n",
       "└── PID: 88027"
      ]
     },
     "execution_count": 3,
     "metadata": {},
     "output_type": "execute_result"
    }
   ],
   "source": [
    "server"
   ]
  },
  {
   "cell_type": "markdown",
   "metadata": {},
   "source": [
    "# Step 3: Test Your Server\n",
    "\n",
    "Your server is already live."
   ]
  },
  {
   "cell_type": "code",
   "execution_count": 4,
   "metadata": {},
   "outputs": [
    {
     "name": "stdout",
     "output_type": "stream",
     "text": [
      "Response: {'message': 'Hello from SyftServe!', 'status': 'success'}\n"
     ]
    }
   ],
   "source": [
    "import requests\n",
    "\n",
    "print(\"Response: \"+str(requests.get(f\"{server.url}/hello\").json()))"
   ]
  },
  {
   "cell_type": "markdown",
   "metadata": {},
   "source": [
    "# Step 4: Restart the kernel/session... find your server"
   ]
  },
  {
   "cell_type": "code",
   "execution_count": 5,
   "metadata": {},
   "outputs": [],
   "source": [
    "import syft_serve as ss"
   ]
  },
  {
   "cell_type": "code",
   "execution_count": 6,
   "metadata": {},
   "outputs": [
    {
     "data": {
      "text/html": [
       "\n",
       "        <div style=\"font-family: -apple-system, BlinkMacSystemFont, 'Segoe UI', Roboto, sans-serif; background: #1e1e1e; border: 1px solid #3e3e3e; border-radius: 5px; padding: 15px;\">\n",
       "            <table style=\"border-collapse: collapse; width: 100%; margin-bottom: 10px; background: #1e1e1e;\">\n",
       "                <thead>\n",
       "                    <tr style=\"border-bottom: 2px solid #3e3e3e; background: #2d2d2d;\">\n",
       "                        <th style=\"padding: 8px; text-align: left; color: #e0e0e0;\">Name</th>\n",
       "                        <th style=\"padding: 8px; text-align: left; color: #e0e0e0;\">Port</th>\n",
       "                        <th style=\"padding: 8px; text-align: left; color: #e0e0e0;\">Status</th>\n",
       "                        <th style=\"padding: 8px; text-align: left; color: #e0e0e0;\">Endpoints</th>\n",
       "                        <th style=\"padding: 8px; text-align: left; color: #e0e0e0;\">Uptime</th>\n",
       "                        <th style=\"padding: 8px; text-align: left; color: #e0e0e0;\">Expires In</th>\n",
       "                        <th style=\"padding: 8px; text-align: left; color: #e0e0e0;\">PID</th>\n",
       "                    </tr>\n",
       "                </thead>\n",
       "                <tbody>\n",
       "                    \n",
       "            <tr style=\"background: #1e1e1e;\">\n",
       "                <td style=\"padding: 8px; color: #e0e0e0;\"><strong>hello_api</strong></td>\n",
       "                <td style=\"padding: 8px; color: #e0e0e0;\">8000</td>\n",
       "                <td style=\"padding: 8px; color: #27ae60;\">✅ Running</td>\n",
       "                <td style=\"padding: 8px; color: #e0e0e0;\"><code>/hello</code></td>\n",
       "                <td style=\"padding: 8px; color: #e0e0e0;\">6s</td>\n",
       "                <td style=\"padding: 8px; color: #f59e0b; font-weight: 500;\">23h 59m</td>\n",
       "                <td style=\"padding: 8px;\"><code style=\"background: #2d2d2d; padding: 2px 4px; border-radius: 3px; color: #e0e0e0;\">88027</code></td>\n",
       "            </tr>\n",
       "            \n",
       "                </tbody>\n",
       "            </table>\n",
       "            <div style=\"color: #a0a0a0; font-size: 14px;\">\n",
       "                1 servers (1 running, 0 stopped)\n",
       "            </div>\n",
       "        </div>\n",
       "        "
      ],
      "text/plain": [
       "Name         Port  Status      Endpoints    Uptime      PID\n",
       "---------  ------  ----------  -----------  --------  -----\n",
       "hello_api    8000  ✅ Running  /hello       6s        88027\n",
       "1 servers (1 running, 0 stopped)"
      ]
     },
     "execution_count": 6,
     "metadata": {},
     "output_type": "execute_result"
    }
   ],
   "source": [
    "# look it's still running!\n",
    "ss.servers"
   ]
  },
  {
   "cell_type": "code",
   "execution_count": 7,
   "metadata": {},
   "outputs": [
    {
     "name": "stdout",
     "output_type": "stream",
     "text": [
      "Response: {'message': 'Hello from SyftServe!', 'status': 'success'}\n"
     ]
    }
   ],
   "source": [
    "import requests\n",
    "server = ss.servers['hello_api']\n",
    "print(\"Response: \"+str(requests.get(f\"{server.url}/hello\").json()))"
   ]
  },
  {
   "cell_type": "markdown",
   "metadata": {},
   "source": [
    "# Step 5: Try to create a server with the same name"
   ]
  },
  {
   "cell_type": "code",
   "execution_count": 8,
   "metadata": {},
   "outputs": [
    {
     "ename": "ServerAlreadyExistsError",
     "evalue": "Server 'hello_api' already exists. Use force=True to replace.",
     "output_type": "error",
     "traceback": [
      "\u001b[31m---------------------------------------------------------------------------\u001b[39m",
      "\u001b[31mServerAlreadyExistsError\u001b[39m                  Traceback (most recent call last)",
      "\u001b[36mCell\u001b[39m\u001b[36m \u001b[39m\u001b[32mIn[8]\u001b[39m\u001b[32m, line 6\u001b[39m\n\u001b[32m      3\u001b[39m     \u001b[38;5;28;01mreturn\u001b[39;00m {\u001b[33m\"\u001b[39m\u001b[33mmessage\u001b[39m\u001b[33m\"\u001b[39m: \u001b[33m\"\u001b[39m\u001b[33mHello again from SyftServe!\u001b[39m\u001b[33m\"\u001b[39m, \u001b[33m\"\u001b[39m\u001b[33mstatus\u001b[39m\u001b[33m\"\u001b[39m: \u001b[33m\"\u001b[39m\u001b[33msuccess\u001b[39m\u001b[33m\"\u001b[39m}\n\u001b[32m      5\u001b[39m \u001b[38;5;66;03m# Create the server\u001b[39;00m\n\u001b[32m----> \u001b[39m\u001b[32m6\u001b[39m server = \u001b[43mss\u001b[49m\u001b[43m.\u001b[49m\u001b[43mcreate\u001b[49m\u001b[43m(\u001b[49m\n\u001b[32m      7\u001b[39m \u001b[43m    \u001b[49m\u001b[43mname\u001b[49m\u001b[43m=\u001b[49m\u001b[33;43m\"\u001b[39;49m\u001b[33;43mhello_api\u001b[39;49m\u001b[33;43m\"\u001b[39;49m\u001b[43m,\u001b[49m\n\u001b[32m      8\u001b[39m \u001b[43m    \u001b[49m\u001b[43mendpoints\u001b[49m\u001b[43m=\u001b[49m\u001b[43m{\u001b[49m\u001b[33;43m\"\u001b[39;49m\u001b[33;43m/hello\u001b[39;49m\u001b[33;43m\"\u001b[39;49m\u001b[43m:\u001b[49m\u001b[43m \u001b[49m\u001b[43mhello\u001b[49m\u001b[43m}\u001b[49m\n\u001b[32m      9\u001b[39m \u001b[43m)\u001b[49m\n",
      "\u001b[36mFile \u001b[39m\u001b[32m~/Desktop/Laboratory/syft-serve/src/syft_serve/_api.py:70\u001b[39m, in \u001b[36mcreate\u001b[39m\u001b[34m(name, endpoints, dependencies, force, expiration_seconds)\u001b[39m\n\u001b[32m     36\u001b[39m \u001b[38;5;250m\u001b[39m\u001b[33;03m\"\"\"\u001b[39;00m\n\u001b[32m     37\u001b[39m \u001b[33;03mCreate a new server\u001b[39;00m\n\u001b[32m     38\u001b[39m \u001b[33;03m\u001b[39;00m\n\u001b[32m   (...)\u001b[39m\u001b[32m     67\u001b[39m \u001b[33;03m    )\u001b[39;00m\n\u001b[32m     68\u001b[39m \u001b[33;03m\"\"\"\u001b[39;00m\n\u001b[32m     69\u001b[39m manager = _get_manager()\n\u001b[32m---> \u001b[39m\u001b[32m70\u001b[39m handle = \u001b[43mmanager\u001b[49m\u001b[43m.\u001b[49m\u001b[43mcreate_server\u001b[49m\u001b[43m(\u001b[49m\n\u001b[32m     71\u001b[39m \u001b[43m    \u001b[49m\u001b[43mname\u001b[49m\u001b[43m=\u001b[49m\u001b[43mname\u001b[49m\u001b[43m,\u001b[49m\n\u001b[32m     72\u001b[39m \u001b[43m    \u001b[49m\u001b[43mendpoints\u001b[49m\u001b[43m=\u001b[49m\u001b[43mendpoints\u001b[49m\u001b[43m,\u001b[49m\n\u001b[32m     73\u001b[39m \u001b[43m    \u001b[49m\u001b[43mdependencies\u001b[49m\u001b[43m=\u001b[49m\u001b[43mdependencies\u001b[49m\u001b[43m,\u001b[49m\n\u001b[32m     74\u001b[39m \u001b[43m    \u001b[49m\u001b[43mforce\u001b[49m\u001b[43m=\u001b[49m\u001b[43mforce\u001b[49m\u001b[43m,\u001b[49m\n\u001b[32m     75\u001b[39m \u001b[43m    \u001b[49m\u001b[43mexpiration_seconds\u001b[49m\u001b[43m=\u001b[49m\u001b[43mexpiration_seconds\u001b[49m\n\u001b[32m     76\u001b[39m \u001b[43m\u001b[49m\u001b[43m)\u001b[49m\n\u001b[32m     77\u001b[39m \u001b[38;5;28;01mreturn\u001b[39;00m Server(handle)\n",
      "\u001b[36mFile \u001b[39m\u001b[32m~/Desktop/Laboratory/syft-serve/src/syft_serve/_manager.py:80\u001b[39m, in \u001b[36mServerManager.create_server\u001b[39m\u001b[34m(self, name, endpoints, dependencies, force, expiration_seconds)\u001b[39m\n\u001b[32m     78\u001b[39m         \u001b[38;5;28mself\u001b[39m.terminate_server(name)\n\u001b[32m     79\u001b[39m     \u001b[38;5;28;01melse\u001b[39;00m:\n\u001b[32m---> \u001b[39m\u001b[32m80\u001b[39m         \u001b[38;5;28;01mraise\u001b[39;00m ServerAlreadyExistsError(\n\u001b[32m     81\u001b[39m             \u001b[33mf\u001b[39m\u001b[33m\"\u001b[39m\u001b[33mServer \u001b[39m\u001b[33m'\u001b[39m\u001b[38;5;132;01m{\u001b[39;00mname\u001b[38;5;132;01m}\u001b[39;00m\u001b[33m'\u001b[39m\u001b[33m already exists. Use force=True to replace.\u001b[39m\u001b[33m\"\u001b[39m\n\u001b[32m     82\u001b[39m         )\n\u001b[32m     84\u001b[39m \u001b[38;5;66;03m# Find available port\u001b[39;00m\n\u001b[32m     85\u001b[39m port = \u001b[38;5;28mself\u001b[39m._find_free_port()\n",
      "\u001b[31mServerAlreadyExistsError\u001b[39m: Server 'hello_api' already exists. Use force=True to replace."
     ]
    }
   ],
   "source": [
    "# Define a simple endpoint function\n",
    "def hello_again():\n",
    "    return {\"message\": \"Hello again from SyftServe!\", \"status\": \"success\"}\n",
    "\n",
    "# Create the server\n",
    "server = ss.create(\n",
    "    name=\"hello_api\",\n",
    "    endpoints={\"/hello\": hello_again}\n",
    ")"
   ]
  },
  {
   "cell_type": "markdown",
   "metadata": {},
   "source": [
    "# Step 6: Force-replace old server"
   ]
  },
  {
   "cell_type": "code",
   "execution_count": 9,
   "metadata": {},
   "outputs": [],
   "source": [
    "# Define a simple endpoint function\n",
    "def hello_again():\n",
    "    return {\"message\": \"Hello again from SyftServe!\", \"status\": \"success\"}\n",
    "\n",
    "# Create the server\n",
    "server = ss.create(\n",
    "    name=\"hello_api\",\n",
    "    endpoints={\"/hello\": hello_again},\n",
    "    force=True\n",
    ")"
   ]
  },
  {
   "cell_type": "code",
   "execution_count": 10,
   "metadata": {},
   "outputs": [
    {
     "data": {
      "text/html": [
       "\n",
       "        <div style=\"font-family: -apple-system, BlinkMacSystemFont, 'Segoe UI', Roboto, sans-serif; background: #1e1e1e; border: 1px solid #3e3e3e; border-radius: 5px; padding: 15px;\">\n",
       "            <table style=\"border-collapse: collapse; width: 100%; margin-bottom: 10px; background: #1e1e1e;\">\n",
       "                <thead>\n",
       "                    <tr style=\"border-bottom: 2px solid #3e3e3e; background: #2d2d2d;\">\n",
       "                        <th style=\"padding: 8px; text-align: left; color: #e0e0e0;\">Name</th>\n",
       "                        <th style=\"padding: 8px; text-align: left; color: #e0e0e0;\">Port</th>\n",
       "                        <th style=\"padding: 8px; text-align: left; color: #e0e0e0;\">Status</th>\n",
       "                        <th style=\"padding: 8px; text-align: left; color: #e0e0e0;\">Endpoints</th>\n",
       "                        <th style=\"padding: 8px; text-align: left; color: #e0e0e0;\">Uptime</th>\n",
       "                        <th style=\"padding: 8px; text-align: left; color: #e0e0e0;\">Expires In</th>\n",
       "                        <th style=\"padding: 8px; text-align: left; color: #e0e0e0;\">PID</th>\n",
       "                    </tr>\n",
       "                </thead>\n",
       "                <tbody>\n",
       "                    \n",
       "            <tr style=\"background: #1e1e1e;\">\n",
       "                <td style=\"padding: 8px; color: #e0e0e0;\"><strong>hello_api</strong></td>\n",
       "                <td style=\"padding: 8px; color: #e0e0e0;\">8000</td>\n",
       "                <td style=\"padding: 8px; color: #27ae60;\">✅ Running</td>\n",
       "                <td style=\"padding: 8px; color: #e0e0e0;\"><code>/hello</code></td>\n",
       "                <td style=\"padding: 8px; color: #e0e0e0;\">2s</td>\n",
       "                <td style=\"padding: 8px; color: #f59e0b; font-weight: 500;\">23h 59m</td>\n",
       "                <td style=\"padding: 8px;\"><code style=\"background: #2d2d2d; padding: 2px 4px; border-radius: 3px; color: #e0e0e0;\">88043</code></td>\n",
       "            </tr>\n",
       "            \n",
       "                </tbody>\n",
       "            </table>\n",
       "            <div style=\"color: #a0a0a0; font-size: 14px;\">\n",
       "                1 servers (1 running, 0 stopped)\n",
       "            </div>\n",
       "        </div>\n",
       "        "
      ],
      "text/plain": [
       "Name         Port  Status      Endpoints    Uptime      PID\n",
       "---------  ------  ----------  -----------  --------  -----\n",
       "hello_api    8000  ✅ Running  /hello       2s        88043\n",
       "1 servers (1 running, 0 stopped)"
      ]
     },
     "execution_count": 10,
     "metadata": {},
     "output_type": "execute_result"
    }
   ],
   "source": [
    "# see how there's still only one server? you replaced the old one\n",
    "ss.servers"
   ]
  },
  {
   "cell_type": "markdown",
   "metadata": {},
   "source": [
    "# Step 7: Debug a server"
   ]
  },
  {
   "cell_type": "code",
   "execution_count": 11,
   "metadata": {},
   "outputs": [],
   "source": [
    "# Define a simple endpoint function\n",
    "def method_with_bug():\n",
    "    print(this_will_error_cuz_this_var_doesnt_exist)\n",
    "    return {\"message\": \"Hello again from SyftServe!\", \"status\": \"success\"}\n",
    "\n",
    "# Create the server\n",
    "server = ss.create(\n",
    "    name=\"buggy_api\",\n",
    "    endpoints={\"/buggy\": method_with_bug}\n",
    ")"
   ]
  },
  {
   "cell_type": "code",
   "execution_count": 12,
   "metadata": {},
   "outputs": [
    {
     "data": {
      "text/html": [
       "\n",
       "        <div style=\"font-family: -apple-system, BlinkMacSystemFont, 'Segoe UI', Roboto, sans-serif; background: #1e1e1e; border: 1px solid #3e3e3e; border-radius: 5px; padding: 15px;\">\n",
       "            <table style=\"border-collapse: collapse; width: 100%; margin-bottom: 10px; background: #1e1e1e;\">\n",
       "                <thead>\n",
       "                    <tr style=\"border-bottom: 2px solid #3e3e3e; background: #2d2d2d;\">\n",
       "                        <th style=\"padding: 8px; text-align: left; color: #e0e0e0;\">Name</th>\n",
       "                        <th style=\"padding: 8px; text-align: left; color: #e0e0e0;\">Port</th>\n",
       "                        <th style=\"padding: 8px; text-align: left; color: #e0e0e0;\">Status</th>\n",
       "                        <th style=\"padding: 8px; text-align: left; color: #e0e0e0;\">Endpoints</th>\n",
       "                        <th style=\"padding: 8px; text-align: left; color: #e0e0e0;\">Uptime</th>\n",
       "                        <th style=\"padding: 8px; text-align: left; color: #e0e0e0;\">Expires In</th>\n",
       "                        <th style=\"padding: 8px; text-align: left; color: #e0e0e0;\">PID</th>\n",
       "                    </tr>\n",
       "                </thead>\n",
       "                <tbody>\n",
       "                    \n",
       "            <tr style=\"background: #1e1e1e;\">\n",
       "                <td style=\"padding: 8px; color: #e0e0e0;\"><strong>hello_api</strong></td>\n",
       "                <td style=\"padding: 8px; color: #e0e0e0;\">8000</td>\n",
       "                <td style=\"padding: 8px; color: #27ae60;\">✅ Running</td>\n",
       "                <td style=\"padding: 8px; color: #e0e0e0;\"><code>/hello</code></td>\n",
       "                <td style=\"padding: 8px; color: #e0e0e0;\">6s</td>\n",
       "                <td style=\"padding: 8px; color: #f59e0b; font-weight: 500;\">23h 59m</td>\n",
       "                <td style=\"padding: 8px;\"><code style=\"background: #2d2d2d; padding: 2px 4px; border-radius: 3px; color: #e0e0e0;\">88043</code></td>\n",
       "            </tr>\n",
       "            \n",
       "            <tr style=\"background: #1e1e1e;\">\n",
       "                <td style=\"padding: 8px; color: #e0e0e0;\"><strong>buggy_api</strong></td>\n",
       "                <td style=\"padding: 8px; color: #e0e0e0;\">8001</td>\n",
       "                <td style=\"padding: 8px; color: #27ae60;\">✅ Running</td>\n",
       "                <td style=\"padding: 8px; color: #e0e0e0;\"><code>/buggy</code></td>\n",
       "                <td style=\"padding: 8px; color: #e0e0e0;\">2s</td>\n",
       "                <td style=\"padding: 8px; color: #f59e0b; font-weight: 500;\">23h 59m</td>\n",
       "                <td style=\"padding: 8px;\"><code style=\"background: #2d2d2d; padding: 2px 4px; border-radius: 3px; color: #e0e0e0;\">88053</code></td>\n",
       "            </tr>\n",
       "            \n",
       "                </tbody>\n",
       "            </table>\n",
       "            <div style=\"color: #a0a0a0; font-size: 14px;\">\n",
       "                2 servers (2 running, 0 stopped)\n",
       "            </div>\n",
       "        </div>\n",
       "        "
      ],
      "text/plain": [
       "Name         Port  Status      Endpoints    Uptime      PID\n",
       "---------  ------  ----------  -----------  --------  -----\n",
       "hello_api    8000  ✅ Running  /hello       6s        88043\n",
       "buggy_api    8001  ✅ Running  /buggy       2s        88053\n",
       "2 servers (2 running, 0 stopped)"
      ]
     },
     "execution_count": 12,
     "metadata": {},
     "output_type": "execute_result"
    }
   ],
   "source": [
    "# no error yet b/c nobody called the endpoint\n",
    "ss.servers"
   ]
  },
  {
   "cell_type": "code",
   "execution_count": 13,
   "metadata": {},
   "outputs": [
    {
     "data": {
      "text/html": [
       "\n",
       "        <div style=\"background: #1e1e1e; border: 1px solid #3e3e3e; border-radius: 5px; padding: 15px; font-family: -apple-system, BlinkMacSystemFont, 'Segoe UI', Roboto, sans-serif;\">\n",
       "            <h3 style=\"margin: 0 0 10px 0; color: #e0e0e0;\">🚀 buggy_api</h3>\n",
       "            <table style=\"width: 100%; border-collapse: collapse;\">\n",
       "                <tr>\n",
       "                    <td style=\"padding: 5px 10px 5px 0; color: #a0a0a0; vertical-align: top;\">Status:</td>\n",
       "                    <td style=\"padding: 5px 0; color: #27ae60; font-weight: bold;\">✅ Running</td>\n",
       "                </tr>\n",
       "                <tr>\n",
       "                    <td style=\"padding: 5px 10px 5px 0; color: #a0a0a0; vertical-align: top;\">URL:</td>\n",
       "                    <td style=\"padding: 5px 0;\"><a href=\"http://localhost:8001\" target=\"_blank\" style=\"color: #66b3ff; text-decoration: none;\">http://localhost:8001</a></td>\n",
       "                </tr>\n",
       "                <tr>\n",
       "                    <td style=\"padding: 5px 10px 5px 0; color: #a0a0a0; vertical-align: top;\">Endpoints:</td>\n",
       "                    <td style=\"padding: 5px 0; color: #e0e0e0;\"><ul style='margin: 0; padding-left: 20px;'><li><code>/buggy</code></li></ul></td>\n",
       "                </tr>\n",
       "                <tr>\n",
       "                    <td style=\"padding: 5px 10px 5px 0; color: #a0a0a0; vertical-align: top;\">Uptime:</td>\n",
       "                    <td style=\"padding: 5px 0; color: #e0e0e0;\">3s</td>\n",
       "                </tr>\n",
       "                <tr>\n",
       "                    <td style=\"padding: 5px 10px 5px 0; color: #a0a0a0; vertical-align: top;\">Expires In:</td>\n",
       "                    <td style=\"padding: 5px 0; font-weight: bold; color: #f59e0b;\">⏰ 23h 59m</td>\n",
       "                </tr>\n",
       "                <tr>\n",
       "                    <td style=\"padding: 5px 10px 5px 0; color: #a0a0a0; vertical-align: top;\">PID:</td>\n",
       "                    <td style=\"padding: 5px 0;\"><code style=\"background: #2d2d2d; padding: 2px 4px; border-radius: 3px; color: #e0e0e0;\">88053</code></td>\n",
       "                </tr>\n",
       "            </table>\n",
       "            \n",
       "            <div style=\"margin-top: 10px; display: grid; grid-template-columns: 1fr 1fr; gap: 10px;\">\n",
       "                <div style=\"padding: 8px; background: #1a1a1a; border-radius: 3px; border: 1px solid #3e3e3e;\">\n",
       "                    <div style=\"color: #a0a0a0; font-size: 11px; margin-bottom: 5px;\">Recent logs:</div>\n",
       "                    <div style=\"font-size: 11px; color: #e0e0e0;\"><span style='color: #9ca3af; font-family: monospace;'>INFO:     127.0.0.1:60731 - \"GET /health HTTP/1.1\" 200 OK</span><br><span style='color: #9ca3af; font-family: monospace;'>INFO:     127.0.0.1:60742 - \"GET /health HTTP/1.1\" 200 OK</span><br><span style='color: #9ca3af; font-family: monospace;'>INFO:     127.0.0.1:60750 - \"GET /health HTTP/1.1\" 200 OK</span></div>\n",
       "                </div>\n",
       "                <div style=\"padding: 8px; background: #1a1a1a; border-radius: 3px; border: 1px solid #3e3e3e;\">\n",
       "                    <div style=\"color: #a0a0a0; font-size: 11px; margin-bottom: 5px;\">Recent errors:</div>\n",
       "                    <div style=\"font-size: 11px;\"><span style='color: #ff6b6b; font-family: monospace;'>INFO:     Waiting for application startup.</span><br><span style='color: #ff6b6b; font-family: monospace;'>INFO:     Application startup complete.</span><br><span style='color: #ff6b6b; font-family: monospace;'>INFO:     Uvicorn running on http://0.0.0.0:8001 (Press CTRL+C to quit)</span></div>\n",
       "                </div>\n",
       "            </div>\n",
       "            \n",
       "            <div style=\"margin-top: 10px; padding-top: 10px; border-top: 1px solid #3e3e3e; font-size: 12px; color: #a0a0a0;\">\n",
       "                Try: <code style=\"background: #2d2d2d; padding: 2px 4px; border-radius: 3px;\">server.stdout.tail(20)</code>, <code style=\"background: #2d2d2d; padding: 2px 4px; border-radius: 3px;\">server.stderr.tail(20)</code>, <code style=\"background: #2d2d2d; padding: 2px 4px; border-radius: 3px;\">server.env</code>, <code style=\"background: #2d2d2d; padding: 2px 4px; border-radius: 3px;\">server.terminate()</code>\n",
       "            </div>\n",
       "        </div>\n",
       "        "
      ],
      "text/plain": [
       "Server: buggy_api\n",
       "├── Status: ✅ Running\n",
       "├── URL: http://localhost:8001\n",
       "├── Endpoints: /buggy\n",
       "├── Uptime: 3s\n",
       "├── Expires: ⏰ 23h 59m\n",
       "└── PID: 88053"
      ]
     },
     "execution_count": 13,
     "metadata": {},
     "output_type": "execute_result"
    }
   ],
   "source": [
    "# no error yet b/c nobody called the endpoint\n",
    "server"
   ]
  },
  {
   "cell_type": "code",
   "execution_count": 14,
   "metadata": {},
   "outputs": [
    {
     "name": "stdout",
     "output_type": "stream",
     "text": [
      "Response: <Response [500]>\n"
     ]
    }
   ],
   "source": [
    "# this triggers the exception internal to the server\n",
    "print(\"Response: \"+str(requests.get(f\"{server.url}/buggy\")))"
   ]
  },
  {
   "cell_type": "code",
   "execution_count": 15,
   "metadata": {},
   "outputs": [
    {
     "data": {
      "text/html": [
       "\n",
       "        <div style=\"background: #1e1e1e; border: 1px solid #3e3e3e; border-radius: 5px; padding: 15px; font-family: -apple-system, BlinkMacSystemFont, 'Segoe UI', Roboto, sans-serif;\">\n",
       "            <h3 style=\"margin: 0 0 10px 0; color: #e0e0e0;\">🚀 buggy_api</h3>\n",
       "            <table style=\"width: 100%; border-collapse: collapse;\">\n",
       "                <tr>\n",
       "                    <td style=\"padding: 5px 10px 5px 0; color: #a0a0a0; vertical-align: top;\">Status:</td>\n",
       "                    <td style=\"padding: 5px 0; color: #27ae60; font-weight: bold;\">✅ Running</td>\n",
       "                </tr>\n",
       "                <tr>\n",
       "                    <td style=\"padding: 5px 10px 5px 0; color: #a0a0a0; vertical-align: top;\">URL:</td>\n",
       "                    <td style=\"padding: 5px 0;\"><a href=\"http://localhost:8001\" target=\"_blank\" style=\"color: #66b3ff; text-decoration: none;\">http://localhost:8001</a></td>\n",
       "                </tr>\n",
       "                <tr>\n",
       "                    <td style=\"padding: 5px 10px 5px 0; color: #a0a0a0; vertical-align: top;\">Endpoints:</td>\n",
       "                    <td style=\"padding: 5px 0; color: #e0e0e0;\"><ul style='margin: 0; padding-left: 20px;'><li><code>/buggy</code></li></ul></td>\n",
       "                </tr>\n",
       "                <tr>\n",
       "                    <td style=\"padding: 5px 10px 5px 0; color: #a0a0a0; vertical-align: top;\">Uptime:</td>\n",
       "                    <td style=\"padding: 5px 0; color: #e0e0e0;\">5s</td>\n",
       "                </tr>\n",
       "                <tr>\n",
       "                    <td style=\"padding: 5px 10px 5px 0; color: #a0a0a0; vertical-align: top;\">Expires In:</td>\n",
       "                    <td style=\"padding: 5px 0; font-weight: bold; color: #f59e0b;\">⏰ 23h 59m</td>\n",
       "                </tr>\n",
       "                <tr>\n",
       "                    <td style=\"padding: 5px 10px 5px 0; color: #a0a0a0; vertical-align: top;\">PID:</td>\n",
       "                    <td style=\"padding: 5px 0;\"><code style=\"background: #2d2d2d; padding: 2px 4px; border-radius: 3px; color: #e0e0e0;\">88053</code></td>\n",
       "                </tr>\n",
       "            </table>\n",
       "            \n",
       "            <div style=\"margin-top: 10px; display: grid; grid-template-columns: 1fr 1fr; gap: 10px;\">\n",
       "                <div style=\"padding: 8px; background: #1a1a1a; border-radius: 3px; border: 1px solid #3e3e3e;\">\n",
       "                    <div style=\"color: #a0a0a0; font-size: 11px; margin-bottom: 5px;\">Recent logs:</div>\n",
       "                    <div style=\"font-size: 11px; color: #e0e0e0;\"><span style='color: #9ca3af; font-family: monospace;'>INFO:     127.0.0.1:53392 - \"GET /health HTTP/1.1\" 200 OK</span><br><span style='color: #9ca3af; font-family: monospace;'>INFO:     127.0.0.1:53402 - \"GET /health HTTP/1.1\" 200 OK</span><br><span style='color: #9ca3af; font-family: monospace;'>INFO:     127.0.0.1:53410 - \"GET /health HTTP/1.1\" 200 OK</span></div>\n",
       "                </div>\n",
       "                <div style=\"padding: 8px; background: #1a1a1a; border-radius: 3px; border: 1px solid #3e3e3e;\">\n",
       "                    <div style=\"color: #a0a0a0; font-size: 11px; margin-bottom: 5px;\">Recent errors:</div>\n",
       "                    <div style=\"font-size: 11px;\"><span style='color: #ff6b6b; font-family: monospace;'>    print(this_will_error_cuz_this_var_doesnt_exist)</span><br><span style='color: #ff6b6b; font-family: monospace;'>          ^^^^^^^^^^^^^^^^^^^^^^^^^^^^^^^^^^^^^^^^^</span><br><span style='color: #ff6b6b; font-family: monospace;'>NameError: name 'this_will_error_cuz_this_var_doesnt_exist' is not defined</span></div>\n",
       "                </div>\n",
       "            </div>\n",
       "            \n",
       "            <div style=\"margin-top: 10px; padding-top: 10px; border-top: 1px solid #3e3e3e; font-size: 12px; color: #a0a0a0;\">\n",
       "                Try: <code style=\"background: #2d2d2d; padding: 2px 4px; border-radius: 3px;\">server.stdout.tail(20)</code>, <code style=\"background: #2d2d2d; padding: 2px 4px; border-radius: 3px;\">server.stderr.tail(20)</code>, <code style=\"background: #2d2d2d; padding: 2px 4px; border-radius: 3px;\">server.env</code>, <code style=\"background: #2d2d2d; padding: 2px 4px; border-radius: 3px;\">server.terminate()</code>\n",
       "            </div>\n",
       "        </div>\n",
       "        "
      ],
      "text/plain": [
       "Server: buggy_api\n",
       "├── Status: ✅ Running\n",
       "├── URL: http://localhost:8001\n",
       "├── Endpoints: /buggy\n",
       "├── Uptime: 5s\n",
       "├── Expires: ⏰ 23h 59m\n",
       "└── PID: 88053"
      ]
     },
     "execution_count": 15,
     "metadata": {},
     "output_type": "execute_result"
    }
   ],
   "source": [
    "# here's where we can see the exception\n",
    "server"
   ]
  },
  {
   "cell_type": "markdown",
   "metadata": {},
   "source": [
    "# Step 8: Create server with several endpoints"
   ]
  },
  {
   "cell_type": "code",
   "execution_count": 16,
   "metadata": {},
   "outputs": [
    {
     "name": "stdout",
     "output_type": "stream",
     "text": [
      "Created time_api with 2 endpoints\n"
     ]
    }
   ],
   "source": [
    "# Create a more complex server\n",
    "def get_time():\n",
    "    import time\n",
    "    return {\"timestamp\": time.time(), \"formatted\": time.ctime()}\n",
    "\n",
    "def get_status():\n",
    "    return {\"status\": \"healthy\", \"service\": \"time_api\", \"version\": \"1.0\"}\n",
    "\n",
    "# Create server with multiple endpoints\n",
    "time_server = ss.create(\n",
    "    name=\"time_api\",\n",
    "    endpoints={\n",
    "        \"/time\": get_time,\n",
    "        \"/status\": get_status\n",
    "    }\n",
    ")\n",
    "\n",
    "print(f\"Created {time_server.name} with {len(time_server.endpoints)} endpoints\")"
   ]
  },
  {
   "cell_type": "code",
   "execution_count": 17,
   "metadata": {},
   "outputs": [
    {
     "name": "stdout",
     "output_type": "stream",
     "text": [
      "Time: {'timestamp': 1753634514.845495, 'formatted': 'Sun Jul 27 12:41:54 2025'}\n",
      "\n",
      "Status: {'status': 'healthy', 'service': 'time_api', 'version': '1.0'}\n"
     ]
    }
   ],
   "source": [
    "# Test both endpoints\n",
    "print(\"Time:\", requests.get(f\"{time_server.url}/time\").json())\n",
    "print(\"\\nStatus:\", requests.get(f\"{time_server.url}/status\").json())"
   ]
  },
  {
   "cell_type": "markdown",
   "metadata": {},
   "source": [
    "# Part 9: Create server with custom dependencies\n",
    "\n",
    "Each server can have its own Python dependencies:"
   ]
  },
  {
   "cell_type": "code",
   "execution_count": 18,
   "metadata": {},
   "outputs": [
    {
     "name": "stdout",
     "output_type": "stream",
     "text": [
      "✅ Created data_api with custom dependencies\n"
     ]
    }
   ],
   "source": [
    "# Create a server that needs specific packages\n",
    "def analyze_data():\n",
    "    # This would use the actual packages in production\n",
    "    import numpy as np\n",
    "    result = int(np.ones((2,3)).sum())\n",
    "    return {\n",
    "        \"result\": result,\n",
    "        \"version\": str(np.__version__)\n",
    "    }\n",
    "\n",
    "# Create server with dependencies\n",
    "data_server = ss.create(\n",
    "    name=\"data_api\",\n",
    "    endpoints={\"/analyze\": analyze_data},\n",
    "    dependencies=[\"pandas>=2.0.0\", \"numpy==2.3.1\"],\n",
    "    force=True\n",
    ")\n",
    "\n",
    "print(f\"✅ Created {data_server.name} with custom dependencies\")"
   ]
  },
  {
   "cell_type": "code",
   "execution_count": 19,
   "metadata": {},
   "outputs": [
    {
     "name": "stdout",
     "output_type": "stream",
     "text": [
      "Result: {'result': 6, 'version': '2.3.1'}\n"
     ]
    }
   ],
   "source": [
    "print(\"Result:\", requests.get(f\"{data_server.url}/analyze\").json())"
   ]
  },
  {
   "cell_type": "code",
   "execution_count": 20,
   "metadata": {},
   "outputs": [
    {
     "name": "stdout",
     "output_type": "stream",
     "text": [
      "Environment: data_api\n",
      "├── fastapi==0.115.0\n",
      "├── numpy==1.24.4\n",
      "├── pandas==2.2.3\n",
      "├── torch==2.7.1\n",
      "├── uvicorn==0.31.0\n",
      "└── ... and 242 more packages\n",
      "\n",
      "Total packages: 247\n",
      "Has pandas: True\n",
      "Has numpy: True\n"
     ]
    }
   ],
   "source": [
    "# View the server's environment\n",
    "print(data_server.env)\n",
    "\n",
    "# Check specific packages\n",
    "packages = data_server.env.list()\n",
    "print(f\"\\nTotal packages: {len(packages)}\")\n",
    "print(\"Has pandas:\", any('pandas' in p for p in packages))\n",
    "print(\"Has numpy:\", any('numpy' in p for p in packages))"
   ]
  },
  {
   "cell_type": "markdown",
   "metadata": {},
   "source": [
    "# Part 10: Create server with expiration date\n",
    "\n",
    "All servers default to 24 hour expiration, but you can also set your own.\n",
    "\n",
    "### Why expire? Won't that delete data?\n",
    "\n",
    "syft-serve is built to manage stateless servers, assuming they'll exclusively use file-backed objects, backed by the syft:// filesystem. you might want forever servers for some usecases, but for other use cases you'll just create ones for a jupyter session (e.g. for widgets) and if the server dies you'll re-launch it when you need it"
   ]
  },
  {
   "cell_type": "code",
   "execution_count": 21,
   "metadata": {},
   "outputs": [],
   "source": [
    " short_widget = ss.create(\n",
    "      \"short_widget\",\n",
    "      expiration_seconds=10,  # 10 seconds\n",
    "      endpoints={}\n",
    "  )"
   ]
  },
  {
   "cell_type": "code",
   "execution_count": 22,
   "metadata": {},
   "outputs": [
    {
     "data": {
      "text/html": [
       "\n",
       "        <div style=\"font-family: -apple-system, BlinkMacSystemFont, 'Segoe UI', Roboto, sans-serif; background: #1e1e1e; border: 1px solid #3e3e3e; border-radius: 5px; padding: 15px;\">\n",
       "            <table style=\"border-collapse: collapse; width: 100%; margin-bottom: 10px; background: #1e1e1e;\">\n",
       "                <thead>\n",
       "                    <tr style=\"border-bottom: 2px solid #3e3e3e; background: #2d2d2d;\">\n",
       "                        <th style=\"padding: 8px; text-align: left; color: #e0e0e0;\">Name</th>\n",
       "                        <th style=\"padding: 8px; text-align: left; color: #e0e0e0;\">Port</th>\n",
       "                        <th style=\"padding: 8px; text-align: left; color: #e0e0e0;\">Status</th>\n",
       "                        <th style=\"padding: 8px; text-align: left; color: #e0e0e0;\">Endpoints</th>\n",
       "                        <th style=\"padding: 8px; text-align: left; color: #e0e0e0;\">Uptime</th>\n",
       "                        <th style=\"padding: 8px; text-align: left; color: #e0e0e0;\">Expires In</th>\n",
       "                        <th style=\"padding: 8px; text-align: left; color: #e0e0e0;\">PID</th>\n",
       "                    </tr>\n",
       "                </thead>\n",
       "                <tbody>\n",
       "                    \n",
       "            <tr style=\"background: #1e1e1e;\">\n",
       "                <td style=\"padding: 8px; color: #e0e0e0;\"><strong>hello_api</strong></td>\n",
       "                <td style=\"padding: 8px; color: #e0e0e0;\">8000</td>\n",
       "                <td style=\"padding: 8px; color: #27ae60;\">✅ Running</td>\n",
       "                <td style=\"padding: 8px; color: #e0e0e0;\"><code>/hello</code></td>\n",
       "                <td style=\"padding: 8px; color: #e0e0e0;\">25s</td>\n",
       "                <td style=\"padding: 8px; color: #f59e0b; font-weight: 500;\">23h 59m</td>\n",
       "                <td style=\"padding: 8px;\"><code style=\"background: #2d2d2d; padding: 2px 4px; border-radius: 3px; color: #e0e0e0;\">88043</code></td>\n",
       "            </tr>\n",
       "            \n",
       "            <tr style=\"background: #1e1e1e;\">\n",
       "                <td style=\"padding: 8px; color: #e0e0e0;\"><strong>buggy_api</strong></td>\n",
       "                <td style=\"padding: 8px; color: #e0e0e0;\">8001</td>\n",
       "                <td style=\"padding: 8px; color: #27ae60;\">✅ Running</td>\n",
       "                <td style=\"padding: 8px; color: #e0e0e0;\"><code>/buggy</code></td>\n",
       "                <td style=\"padding: 8px; color: #e0e0e0;\">21s</td>\n",
       "                <td style=\"padding: 8px; color: #f59e0b; font-weight: 500;\">23h 59m</td>\n",
       "                <td style=\"padding: 8px;\"><code style=\"background: #2d2d2d; padding: 2px 4px; border-radius: 3px; color: #e0e0e0;\">88053</code></td>\n",
       "            </tr>\n",
       "            \n",
       "            <tr style=\"background: #1e1e1e;\">\n",
       "                <td style=\"padding: 8px; color: #e0e0e0;\"><strong>time_api</strong></td>\n",
       "                <td style=\"padding: 8px; color: #e0e0e0;\">8002</td>\n",
       "                <td style=\"padding: 8px; color: #27ae60;\">✅ Running</td>\n",
       "                <td style=\"padding: 8px; color: #e0e0e0;\"><code>/time</code>, <code>/status</code></td>\n",
       "                <td style=\"padding: 8px; color: #e0e0e0;\">13s</td>\n",
       "                <td style=\"padding: 8px; color: #f59e0b; font-weight: 500;\">23h 59m</td>\n",
       "                <td style=\"padding: 8px;\"><code style=\"background: #2d2d2d; padding: 2px 4px; border-radius: 3px; color: #e0e0e0;\">88070</code></td>\n",
       "            </tr>\n",
       "            \n",
       "            <tr style=\"background: #1e1e1e;\">\n",
       "                <td style=\"padding: 8px; color: #e0e0e0;\"><strong>data_api</strong></td>\n",
       "                <td style=\"padding: 8px; color: #e0e0e0;\">8003</td>\n",
       "                <td style=\"padding: 8px; color: #27ae60;\">✅ Running</td>\n",
       "                <td style=\"padding: 8px; color: #e0e0e0;\"><code>/analyze</code></td>\n",
       "                <td style=\"padding: 8px; color: #e0e0e0;\">9s</td>\n",
       "                <td style=\"padding: 8px; color: #f59e0b; font-weight: 500;\">23h 59m</td>\n",
       "                <td style=\"padding: 8px;\"><code style=\"background: #2d2d2d; padding: 2px 4px; border-radius: 3px; color: #e0e0e0;\">88080</code></td>\n",
       "            </tr>\n",
       "            \n",
       "            <tr style=\"background: #1e1e1e;\">\n",
       "                <td style=\"padding: 8px; color: #e0e0e0;\"><strong>short_widget</strong></td>\n",
       "                <td style=\"padding: 8px; color: #e0e0e0;\">8004</td>\n",
       "                <td style=\"padding: 8px; color: #27ae60;\">✅ Running</td>\n",
       "                <td style=\"padding: 8px; color: #e0e0e0;\"><em>-</em></td>\n",
       "                <td style=\"padding: 8px; color: #e0e0e0;\">3s</td>\n",
       "                <td style=\"padding: 8px; color: #ea580c; font-weight: 500;\">6s</td>\n",
       "                <td style=\"padding: 8px;\"><code style=\"background: #2d2d2d; padding: 2px 4px; border-radius: 3px; color: #e0e0e0;\">88092</code></td>\n",
       "            </tr>\n",
       "            \n",
       "                </tbody>\n",
       "            </table>\n",
       "            <div style=\"color: #a0a0a0; font-size: 14px;\">\n",
       "                5 servers (5 running, 0 stopped)\n",
       "            </div>\n",
       "        </div>\n",
       "        "
      ],
      "text/plain": [
       "Name            Port  Status      Endpoints       Uptime      PID\n",
       "------------  ------  ----------  --------------  --------  -----\n",
       "hello_api       8000  ✅ Running  /hello          25s       88043\n",
       "buggy_api       8001  ✅ Running  /buggy          21s       88053\n",
       "time_api        8002  ✅ Running  /time, /status  13s       88070\n",
       "data_api        8003  ✅ Running  /analyze        9s        88080\n",
       "short_widget    8004  ✅ Running  -               3s        88092\n",
       "5 servers (5 running, 0 stopped)"
      ]
     },
     "execution_count": 22,
     "metadata": {},
     "output_type": "execute_result"
    }
   ],
   "source": [
    "ss.servers"
   ]
  },
  {
   "cell_type": "code",
   "execution_count": 23,
   "metadata": {},
   "outputs": [],
   "source": [
    "# wait 10 seconds"
   ]
  },
  {
   "cell_type": "code",
   "execution_count": 26,
   "metadata": {},
   "outputs": [
    {
     "data": {
      "text/html": [
       "\n",
       "        <div style=\"font-family: -apple-system, BlinkMacSystemFont, 'Segoe UI', Roboto, sans-serif; background: #1e1e1e; border: 1px solid #3e3e3e; border-radius: 5px; padding: 15px;\">\n",
       "            <table style=\"border-collapse: collapse; width: 100%; margin-bottom: 10px; background: #1e1e1e;\">\n",
       "                <thead>\n",
       "                    <tr style=\"border-bottom: 2px solid #3e3e3e; background: #2d2d2d;\">\n",
       "                        <th style=\"padding: 8px; text-align: left; color: #e0e0e0;\">Name</th>\n",
       "                        <th style=\"padding: 8px; text-align: left; color: #e0e0e0;\">Port</th>\n",
       "                        <th style=\"padding: 8px; text-align: left; color: #e0e0e0;\">Status</th>\n",
       "                        <th style=\"padding: 8px; text-align: left; color: #e0e0e0;\">Endpoints</th>\n",
       "                        <th style=\"padding: 8px; text-align: left; color: #e0e0e0;\">Uptime</th>\n",
       "                        <th style=\"padding: 8px; text-align: left; color: #e0e0e0;\">Expires In</th>\n",
       "                        <th style=\"padding: 8px; text-align: left; color: #e0e0e0;\">PID</th>\n",
       "                    </tr>\n",
       "                </thead>\n",
       "                <tbody>\n",
       "                    \n",
       "            <tr style=\"background: #1e1e1e;\">\n",
       "                <td style=\"padding: 8px; color: #e0e0e0;\"><strong>hello_api</strong></td>\n",
       "                <td style=\"padding: 8px; color: #e0e0e0;\">8000</td>\n",
       "                <td style=\"padding: 8px; color: #27ae60;\">✅ Running</td>\n",
       "                <td style=\"padding: 8px; color: #e0e0e0;\"><code>/hello</code></td>\n",
       "                <td style=\"padding: 8px; color: #e0e0e0;\">33s</td>\n",
       "                <td style=\"padding: 8px; color: #f59e0b; font-weight: 500;\">23h 59m</td>\n",
       "                <td style=\"padding: 8px;\"><code style=\"background: #2d2d2d; padding: 2px 4px; border-radius: 3px; color: #e0e0e0;\">88043</code></td>\n",
       "            </tr>\n",
       "            \n",
       "            <tr style=\"background: #1e1e1e;\">\n",
       "                <td style=\"padding: 8px; color: #e0e0e0;\"><strong>buggy_api</strong></td>\n",
       "                <td style=\"padding: 8px; color: #e0e0e0;\">8001</td>\n",
       "                <td style=\"padding: 8px; color: #27ae60;\">✅ Running</td>\n",
       "                <td style=\"padding: 8px; color: #e0e0e0;\"><code>/buggy</code></td>\n",
       "                <td style=\"padding: 8px; color: #e0e0e0;\">29s</td>\n",
       "                <td style=\"padding: 8px; color: #f59e0b; font-weight: 500;\">23h 59m</td>\n",
       "                <td style=\"padding: 8px;\"><code style=\"background: #2d2d2d; padding: 2px 4px; border-radius: 3px; color: #e0e0e0;\">88053</code></td>\n",
       "            </tr>\n",
       "            \n",
       "            <tr style=\"background: #1e1e1e;\">\n",
       "                <td style=\"padding: 8px; color: #e0e0e0;\"><strong>time_api</strong></td>\n",
       "                <td style=\"padding: 8px; color: #e0e0e0;\">8002</td>\n",
       "                <td style=\"padding: 8px; color: #27ae60;\">✅ Running</td>\n",
       "                <td style=\"padding: 8px; color: #e0e0e0;\"><code>/time</code>, <code>/status</code></td>\n",
       "                <td style=\"padding: 8px; color: #e0e0e0;\">21s</td>\n",
       "                <td style=\"padding: 8px; color: #f59e0b; font-weight: 500;\">23h 59m</td>\n",
       "                <td style=\"padding: 8px;\"><code style=\"background: #2d2d2d; padding: 2px 4px; border-radius: 3px; color: #e0e0e0;\">88070</code></td>\n",
       "            </tr>\n",
       "            \n",
       "            <tr style=\"background: #1e1e1e;\">\n",
       "                <td style=\"padding: 8px; color: #e0e0e0;\"><strong>data_api</strong></td>\n",
       "                <td style=\"padding: 8px; color: #e0e0e0;\">8003</td>\n",
       "                <td style=\"padding: 8px; color: #27ae60;\">✅ Running</td>\n",
       "                <td style=\"padding: 8px; color: #e0e0e0;\"><code>/analyze</code></td>\n",
       "                <td style=\"padding: 8px; color: #e0e0e0;\">17s</td>\n",
       "                <td style=\"padding: 8px; color: #f59e0b; font-weight: 500;\">23h 59m</td>\n",
       "                <td style=\"padding: 8px;\"><code style=\"background: #2d2d2d; padding: 2px 4px; border-radius: 3px; color: #e0e0e0;\">88080</code></td>\n",
       "            </tr>\n",
       "            \n",
       "                </tbody>\n",
       "            </table>\n",
       "            <div style=\"color: #a0a0a0; font-size: 14px;\">\n",
       "                4 servers (4 running, 0 stopped)\n",
       "            </div>\n",
       "        </div>\n",
       "        "
      ],
      "text/plain": [
       "Name         Port  Status      Endpoints       Uptime      PID\n",
       "---------  ------  ----------  --------------  --------  -----\n",
       "hello_api    8000  ✅ Running  /hello          33s       88043\n",
       "buggy_api    8001  ✅ Running  /buggy          29s       88053\n",
       "time_api     8002  ✅ Running  /time, /status  21s       88070\n",
       "data_api     8003  ✅ Running  /analyze        17s       88080\n",
       "4 servers (4 running, 0 stopped)"
      ]
     },
     "execution_count": 26,
     "metadata": {},
     "output_type": "execute_result"
    }
   ],
   "source": [
    "ss.servers"
   ]
  },
  {
   "cell_type": "markdown",
   "metadata": {},
   "source": [
    "# Part 11: Cleanup\n",
    "\n",
    "When you're done, terminate your servers:"
   ]
  },
  {
   "cell_type": "code",
   "execution_count": 27,
   "metadata": {},
   "outputs": [
    {
     "name": "stdout",
     "output_type": "stream",
     "text": [
      "\n",
      "Remaining servers: 3\n"
     ]
    },
    {
     "data": {
      "text/html": [
       "\n",
       "        <div style=\"font-family: -apple-system, BlinkMacSystemFont, 'Segoe UI', Roboto, sans-serif; background: #1e1e1e; border: 1px solid #3e3e3e; border-radius: 5px; padding: 15px;\">\n",
       "            <table style=\"border-collapse: collapse; width: 100%; margin-bottom: 10px; background: #1e1e1e;\">\n",
       "                <thead>\n",
       "                    <tr style=\"border-bottom: 2px solid #3e3e3e; background: #2d2d2d;\">\n",
       "                        <th style=\"padding: 8px; text-align: left; color: #e0e0e0;\">Name</th>\n",
       "                        <th style=\"padding: 8px; text-align: left; color: #e0e0e0;\">Port</th>\n",
       "                        <th style=\"padding: 8px; text-align: left; color: #e0e0e0;\">Status</th>\n",
       "                        <th style=\"padding: 8px; text-align: left; color: #e0e0e0;\">Endpoints</th>\n",
       "                        <th style=\"padding: 8px; text-align: left; color: #e0e0e0;\">Uptime</th>\n",
       "                        <th style=\"padding: 8px; text-align: left; color: #e0e0e0;\">Expires In</th>\n",
       "                        <th style=\"padding: 8px; text-align: left; color: #e0e0e0;\">PID</th>\n",
       "                    </tr>\n",
       "                </thead>\n",
       "                <tbody>\n",
       "                    \n",
       "            <tr style=\"background: #1e1e1e;\">\n",
       "                <td style=\"padding: 8px; color: #e0e0e0;\"><strong>buggy_api</strong></td>\n",
       "                <td style=\"padding: 8px; color: #e0e0e0;\">8001</td>\n",
       "                <td style=\"padding: 8px; color: #27ae60;\">✅ Running</td>\n",
       "                <td style=\"padding: 8px; color: #e0e0e0;\"><code>/buggy</code></td>\n",
       "                <td style=\"padding: 8px; color: #e0e0e0;\">31s</td>\n",
       "                <td style=\"padding: 8px; color: #f59e0b; font-weight: 500;\">23h 59m</td>\n",
       "                <td style=\"padding: 8px;\"><code style=\"background: #2d2d2d; padding: 2px 4px; border-radius: 3px; color: #e0e0e0;\">88053</code></td>\n",
       "            </tr>\n",
       "            \n",
       "            <tr style=\"background: #1e1e1e;\">\n",
       "                <td style=\"padding: 8px; color: #e0e0e0;\"><strong>time_api</strong></td>\n",
       "                <td style=\"padding: 8px; color: #e0e0e0;\">8002</td>\n",
       "                <td style=\"padding: 8px; color: #27ae60;\">✅ Running</td>\n",
       "                <td style=\"padding: 8px; color: #e0e0e0;\"><code>/time</code>, <code>/status</code></td>\n",
       "                <td style=\"padding: 8px; color: #e0e0e0;\">23s</td>\n",
       "                <td style=\"padding: 8px; color: #f59e0b; font-weight: 500;\">23h 59m</td>\n",
       "                <td style=\"padding: 8px;\"><code style=\"background: #2d2d2d; padding: 2px 4px; border-radius: 3px; color: #e0e0e0;\">88070</code></td>\n",
       "            </tr>\n",
       "            \n",
       "            <tr style=\"background: #1e1e1e;\">\n",
       "                <td style=\"padding: 8px; color: #e0e0e0;\"><strong>data_api</strong></td>\n",
       "                <td style=\"padding: 8px; color: #e0e0e0;\">8003</td>\n",
       "                <td style=\"padding: 8px; color: #27ae60;\">✅ Running</td>\n",
       "                <td style=\"padding: 8px; color: #e0e0e0;\"><code>/analyze</code></td>\n",
       "                <td style=\"padding: 8px; color: #e0e0e0;\">19s</td>\n",
       "                <td style=\"padding: 8px; color: #f59e0b; font-weight: 500;\">23h 59m</td>\n",
       "                <td style=\"padding: 8px;\"><code style=\"background: #2d2d2d; padding: 2px 4px; border-radius: 3px; color: #e0e0e0;\">88080</code></td>\n",
       "            </tr>\n",
       "            \n",
       "                </tbody>\n",
       "            </table>\n",
       "            <div style=\"color: #a0a0a0; font-size: 14px;\">\n",
       "                3 servers (3 running, 0 stopped)\n",
       "            </div>\n",
       "        </div>\n",
       "        "
      ],
      "text/plain": [
       "Name         Port  Status      Endpoints       Uptime      PID\n",
       "---------  ------  ----------  --------------  --------  -----\n",
       "buggy_api    8001  ✅ Running  /buggy          31s       88053\n",
       "time_api     8002  ✅ Running  /time, /status  23s       88070\n",
       "data_api     8003  ✅ Running  /analyze        19s       88080\n",
       "3 servers (3 running, 0 stopped)"
      ]
     },
     "execution_count": 27,
     "metadata": {},
     "output_type": "execute_result"
    }
   ],
   "source": [
    "ss.servers['hello_api'].terminate()\n",
    "\n",
    "# Check remaining servers\n",
    "print(f\"\\nRemaining servers: {len(ss.servers)}\")\n",
    "ss.servers"
   ]
  },
  {
   "cell_type": "code",
   "execution_count": 28,
   "metadata": {},
   "outputs": [
    {
     "name": "stdout",
     "output_type": "stream",
     "text": [
      "Found 1 orphaned server process(es)\n",
      "Terminated 1 process(es)\n",
      "✅ All servers terminated\n"
     ]
    }
   ],
   "source": [
    "# When completely done, terminate ALL servers\n",
    "# This also finds and terminates any orphaned processes\n",
    "ss.servers.terminate_all()\n",
    "print(\"✅ All servers terminated\")"
   ]
  },
  {
   "cell_type": "code",
   "execution_count": 29,
   "metadata": {},
   "outputs": [
    {
     "data": {
      "text/html": [
       "<p style='color: #a0a0a0;'>No servers</p>"
      ],
      "text/plain": [
       "No servers"
      ]
     },
     "execution_count": 29,
     "metadata": {},
     "output_type": "execute_result"
    }
   ],
   "source": [
    "ss.servers"
   ]
  },
  {
   "cell_type": "markdown",
   "metadata": {},
   "source": [
    "# Next Steps\n",
    "\n",
    "Time to move on to other syft tutorials where you'll use syft-serve in applied settings!"
   ]
  },
  {
   "cell_type": "code",
   "execution_count": null,
   "metadata": {},
   "outputs": [],
   "source": []
  }
 ],
 "metadata": {
  "kernelspec": {
   "display_name": "Python 3 (ipykernel)",
   "language": "python",
   "name": "python3"
  },
  "language_info": {
   "codemirror_mode": {
    "name": "ipython",
    "version": 3
   },
   "file_extension": ".py",
   "mimetype": "text/x-python",
   "name": "python",
   "nbconvert_exporter": "python",
   "pygments_lexer": "ipython3",
   "version": "3.12.9"
  }
 },
 "nbformat": 4,
 "nbformat_minor": 4
}

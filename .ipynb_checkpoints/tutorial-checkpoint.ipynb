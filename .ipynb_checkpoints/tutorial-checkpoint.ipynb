{
 "cells": [
  {
   "cell_type": "markdown",
   "metadata": {},
   "source": [
    "# SyftServe Tutorial: Simple FastAPI Server Management\n",
    "\n",
    "Welcome to SyftServe! This tutorial will teach you how to easily create and manage stateless FastAPI servers.\n",
    "\n",
    "## What is SyftServe?\n",
    "\n",
    "SyftServe provides the simplest possible API for launching FastAPI servers:\n",
    "- **`create()`** - Launch a new server\n",
    "- **`terminate_all()`** - Stop all servers\n",
    "\n",
    "That's it! Just two functions.\n",
    "\n",
    "## Key Features\n",
    "\n",
    "- 🚀 **Launch servers** with a single function call\n",
    "- 📦 **Isolated environments** - each server gets its own dependencies\n",
    "- 📝 **Named servers** - access by name, not port numbers\n",
    "- 🔍 **Easy log access** - `server.stdout.tail(20)`\n",
    "- 💪 **Persistent** - servers survive notebook restarts\n",
    "- 🧹 **Clean termination** - properly cleans up all processes"
   ]
  },
  {
   "cell_type": "markdown",
   "metadata": {},
   "source": [
    "## Installation\n",
    "\n",
    "First, let's import SyftServe:"
   ]
  },
  {
   "cell_type": "code",
   "execution_count": 23,
   "metadata": {},
   "outputs": [
    {
     "name": "stdout",
     "output_type": "stream",
     "text": [
      "SyftServe version: 0.3.0\n"
     ]
    }
   ],
   "source": [
    "# Import with a short alias\n",
    "import syft_serve as ss\n",
    "\n",
    "print(f\"SyftServe version: {ss.__version__}\")"
   ]
  },
  {
   "cell_type": "markdown",
   "metadata": {},
   "source": [
    "## Part 1: Creating Your First Server\n",
    "\n",
    "Creating a server is simple. You need:\n",
    "1. A **name** for your server\n",
    "2. **Endpoints** - Python functions that handle requests"
   ]
  },
  {
   "cell_type": "code",
   "execution_count": 24,
   "metadata": {},
   "outputs": [
    {
     "name": "stdout",
     "output_type": "stream",
     "text": [
      "✅ Server created!\n",
      "📍 URL: http://localhost:8001\n",
      "🏷️  Name: hello_api\n",
      "🔌 Port: 8001\n"
     ]
    }
   ],
   "source": [
    "# Define a simple endpoint function\n",
    "def hello():\n",
    "    return {\"message\": \"Hello from SyftServe!\", \"status\": \"success\"}\n",
    "\n",
    "# Create the server\n",
    "server = ss.create(\n",
    "    name=\"hello_api\",\n",
    "    endpoints={\"/hello\": hello}\n",
    ")\n",
    "\n",
    "print(f\"✅ Server created!\")\n",
    "print(f\"📍 URL: {server.url}\")\n",
    "print(f\"🏷️  Name: {server.name}\")\n",
    "print(f\"🔌 Port: {server.port}\")"
   ]
  },
  {
   "cell_type": "markdown",
   "metadata": {},
   "source": [
    "### Testing Your Server"
   ]
  },
  {
   "cell_type": "code",
   "execution_count": 25,
   "metadata": {},
   "outputs": [
    {
     "name": "stdout",
     "output_type": "stream",
     "text": [
      "Response: {'message': 'Hello from SyftServe!', 'status': 'success'}\n"
     ]
    }
   ],
   "source": [
    "import requests\n",
    "\n",
    "# Make a request to your endpoint\n",
    "response = requests.get(f\"{server.url}/hello\")\n",
    "print(f\"Response: {response.json()}\")"
   ]
  },
  {
   "cell_type": "markdown",
   "metadata": {},
   "source": [
    "## Part 2: Accessing Servers\n",
    "\n",
    "Use `ss.servers` to see and access your servers:"
   ]
  },
  {
   "cell_type": "code",
   "execution_count": 26,
   "metadata": {},
   "outputs": [
    {
     "data": {
      "text/html": [
       "\n",
       "        <div style=\"font-family: -apple-system, BlinkMacSystemFont, 'Segoe UI', Roboto, sans-serif;\">\n",
       "            <table style=\"border-collapse: collapse; width: 100%; margin-bottom: 10px;\">\n",
       "                <thead>\n",
       "                    <tr style=\"border-bottom: 2px solid #ddd;\">\n",
       "                        <th style=\"padding: 8px; text-align: left;\">Name</th>\n",
       "                        <th style=\"padding: 8px; text-align: left;\">Port</th>\n",
       "                        <th style=\"padding: 8px; text-align: left;\">Status</th>\n",
       "                        <th style=\"padding: 8px; text-align: left;\">Endpoints</th>\n",
       "                        <th style=\"padding: 8px; text-align: left;\">Uptime</th>\n",
       "                        <th style=\"padding: 8px; text-align: left;\">PID</th>\n",
       "                    </tr>\n",
       "                </thead>\n",
       "                <tbody>\n",
       "                    \n",
       "            <tr>\n",
       "                <td style=\"padding: 8px;\"><strong>hello_api</strong></td>\n",
       "                <td style=\"padding: 8px;\">8001</td>\n",
       "                <td style=\"padding: 8px; color: #27ae60;\">✅ Running</td>\n",
       "                <td style=\"padding: 8px;\"><code>/hello</code></td>\n",
       "                <td style=\"padding: 8px;\">2s</td>\n",
       "                <td style=\"padding: 8px;\"><code>20398</code></td>\n",
       "            </tr>\n",
       "            \n",
       "                </tbody>\n",
       "            </table>\n",
       "            <div style=\"color: #666; font-size: 14px;\">\n",
       "                1 servers (1 running, 0 stopped)\n",
       "            </div>\n",
       "        </div>\n",
       "        "
      ],
      "text/plain": [
       "Name         Port  Status      Endpoints    Uptime      PID\n",
       "---------  ------  ----------  -----------  --------  -----\n",
       "hello_api    8001  ✅ Running  /hello       2s        20398\n",
       "1 servers (1 running, 0 stopped)"
      ]
     },
     "execution_count": 26,
     "metadata": {},
     "output_type": "execute_result"
    }
   ],
   "source": [
    "# View all servers in a nice table\n",
    "ss.servers"
   ]
  },
  {
   "cell_type": "code",
   "execution_count": 27,
   "metadata": {},
   "outputs": [
    {
     "name": "stdout",
     "output_type": "stream",
     "text": [
      "Server 'hello_api' is running\n",
      "URL: http://localhost:8001\n",
      "Endpoints: ['/hello']\n",
      "\n",
      "First server: hello_api\n"
     ]
    }
   ],
   "source": [
    "# Access a server by name - this is the primary way\n",
    "my_server = ss.servers[\"hello_api\"]\n",
    "print(f\"Server '{my_server.name}' is {my_server.status}\")\n",
    "print(f\"URL: {my_server.url}\")\n",
    "print(f\"Endpoints: {my_server.endpoints}\")\n",
    "\n",
    "# You can also access by index\n",
    "first_server = ss.servers[0]\n",
    "print(f\"\\nFirst server: {first_server.name}\")"
   ]
  },
  {
   "cell_type": "markdown",
   "metadata": {},
   "source": [
    "## Part 3: Multiple Endpoints\n",
    "\n",
    "Servers can have multiple endpoints:"
   ]
  },
  {
   "cell_type": "code",
   "execution_count": 28,
   "metadata": {},
   "outputs": [
    {
     "name": "stdout",
     "output_type": "stream",
     "text": [
      "Created time_api with 2 endpoints\n"
     ]
    }
   ],
   "source": [
    "# Create a more complex server\n",
    "def get_time():\n",
    "    import time\n",
    "    return {\"timestamp\": time.time(), \"formatted\": time.ctime()}\n",
    "\n",
    "def get_status():\n",
    "    return {\"status\": \"healthy\", \"service\": \"time_api\", \"version\": \"1.0\"}\n",
    "\n",
    "# Create server with multiple endpoints\n",
    "time_server = ss.create(\n",
    "    name=\"time_api\",\n",
    "    endpoints={\n",
    "        \"/time\": get_time,\n",
    "        \"/status\": get_status\n",
    "    }\n",
    ")\n",
    "\n",
    "print(f\"Created {time_server.name} with {len(time_server.endpoints)} endpoints\")"
   ]
  },
  {
   "cell_type": "code",
   "execution_count": 29,
   "metadata": {},
   "outputs": [
    {
     "name": "stdout",
     "output_type": "stream",
     "text": [
      "Time: {'timestamp': 1753590031.623185, 'formatted': 'Sun Jul 27 00:20:31 2025'}\n",
      "\n",
      "Status: {'status': 'healthy', 'service': 'time_api', 'version': '1.0'}\n"
     ]
    }
   ],
   "source": [
    "# Test both endpoints\n",
    "print(\"Time:\", requests.get(f\"{time_server.url}/time\").json())\n",
    "print(\"\\nStatus:\", requests.get(f\"{time_server.url}/status\").json())"
   ]
  },
  {
   "cell_type": "markdown",
   "metadata": {},
   "source": [
    "## Part 4: Server Logs\n",
    "\n",
    "Each server captures stdout and stderr separately. Access logs easily:"
   ]
  },
  {
   "cell_type": "code",
   "execution_count": 30,
   "metadata": {},
   "outputs": [
    {
     "name": "stdout",
     "output_type": "stream",
     "text": [
      "📋 Recent stdout (last 10 lines):\n",
      "INFO:     127.0.0.1:65381 - \"GET /health HTTP/1.1\" 200 OK\n",
      "INFO:     127.0.0.1:65503 - \"GET /health HTTP/1.1\" 200 OK\n",
      "INFO:     127.0.0.1:65531 - \"GET /time HTTP/1.1\" 200 OK\n",
      "INFO:     127.0.0.1:49159 - \"GET /status HTTP/1.1\" 200 OK\n",
      "INFO:     127.0.0.1:49183 - \"GET /time HTTP/1.1\" 200 OK\n",
      "INFO:     127.0.0.1:49193 - \"GET /status HTTP/1.1\" 200 OK\n",
      "INFO:     127.0.0.1:49201 - \"GET /time HTTP/1.1\" 200 OK\n",
      "INFO:     127.0.0.1:49213 - \"GET /status HTTP/1.1\" 200 OK\n",
      "INFO:     127.0.0.1:49223 - \"GET /time HTTP/1.1\" 200 OK\n",
      "INFO:     127.0.0.1:49229 - \"GET /status HTTP/1.1\" 200 OK\n"
     ]
    }
   ],
   "source": [
    "# Make some requests to generate logs\n",
    "for i in range(3):\n",
    "    requests.get(f\"{time_server.url}/time\")\n",
    "    requests.get(f\"{time_server.url}/status\")\n",
    "\n",
    "# View recent logs\n",
    "print(\"📋 Recent stdout (last 10 lines):\")\n",
    "print(time_server.stdout.tail(10))"
   ]
  },
  {
   "cell_type": "code",
   "execution_count": 31,
   "metadata": {},
   "outputs": [
    {
     "name": "stdout",
     "output_type": "stream",
     "text": [
      "First 5 lines:\n",
      "INFO:     127.0.0.1:65381 - \"GET /health HTTP/1.1\" 200 OK\n",
      "INFO:     127.0.0.1:65503 - \"GET /health HTTP/1.1\" 200 OK\n",
      "INFO:     127.0.0.1:65531 - \"GET /time HTTP/1.1\" 200 OK\n",
      "INFO:     127.0.0.1:49159 - \"GET /status HTTP/1.1\" 200 OK\n",
      "INFO:     127.0.0.1:49183 - \"GET /time HTTP/1.1\" 200 OK\n",
      "\n",
      "Check for errors:\n",
      "\u001b[1m\u001b[33mwarning\u001b[39m\u001b[0m\u001b[1m:\u001b[0m \u001b[1m`VIRTUAL_ENV=/Users/atrask/Library/Caches/uv/archive-v0/TM8Flkd9TWjYDiSAgGQeH` does not match the project environment path `.venv` and will be ignored\u001b[0m\n",
      "\u001b[1m\u001b[33mwarning\u001b[39m\u001b[0m\u001b[1m:\u001b[0m \u001b[1mNo `requires-python` value found in the workspace. Defaulting to `>=3.12`.\u001b[0m\n",
      "INFO:     Started server process [20403]\n",
      "INFO:     Waiting for application startup.\n",
      "INFO:     Application startup complete.\n",
      "INFO:     Uvicorn running on http://0.0.0.0:8002 (Press CTRL+C to quit)\n",
      "\n",
      "Total log lines: 10\n"
     ]
    }
   ],
   "source": [
    "# Other log operations\n",
    "print(\"First 5 lines:\")\n",
    "print(time_server.stdout.head(5))\n",
    "\n",
    "print(\"\\nCheck for errors:\")\n",
    "print(time_server.stderr.tail(10) or \"No errors!\")\n",
    "\n",
    "print(\"\\nTotal log lines:\", len(time_server.stdout.lines()))"
   ]
  },
  {
   "cell_type": "markdown",
   "metadata": {},
   "source": [
    "## Part 5: Custom Dependencies\n",
    "\n",
    "Each server can have its own Python dependencies:"
   ]
  },
  {
   "cell_type": "code",
   "execution_count": 32,
   "metadata": {},
   "outputs": [
    {
     "name": "stdout",
     "output_type": "stream",
     "text": [
      "✅ Created data_api with custom dependencies\n"
     ]
    }
   ],
   "source": [
    "# Create a server that needs specific packages\n",
    "def analyze_data():\n",
    "    # This would use the actual packages in production\n",
    "    return {\n",
    "        \"analysis\": \"Data analysis endpoint\",\n",
    "        \"dependencies\": [\"pandas\", \"numpy\"],\n",
    "        \"status\": \"ready\"\n",
    "    }\n",
    "\n",
    "# Create server with dependencies\n",
    "data_server = ss.create(\n",
    "    name=\"data_api\",\n",
    "    endpoints={\"/analyze\": analyze_data},\n",
    "    dependencies=[\"pandas>=2.0.0\", \"numpy\"]\n",
    ")\n",
    "\n",
    "print(f\"✅ Created {data_server.name} with custom dependencies\")"
   ]
  },
  {
   "cell_type": "code",
   "execution_count": 33,
   "metadata": {},
   "outputs": [
    {
     "name": "stdout",
     "output_type": "stream",
     "text": [
      "Environment: data_api\n",
      "├── fastapi==0.116.1\n",
      "├── uvicorn==0.35.0\n",
      "└── ... and 129 more packages\n",
      "\n",
      "Total packages: 131\n",
      "Has pandas: False\n",
      "Has numpy: False\n"
     ]
    }
   ],
   "source": [
    "# View the server's environment\n",
    "print(data_server.env)\n",
    "\n",
    "# Check specific packages\n",
    "packages = data_server.env.list()\n",
    "print(f\"\\nTotal packages: {len(packages)}\")\n",
    "print(\"Has pandas:\", any('pandas' in p for p in packages))\n",
    "print(\"Has numpy:\", any('numpy' in p for p in packages))"
   ]
  },
  {
   "cell_type": "markdown",
   "metadata": {},
   "source": [
    "## Part 6: Replacing Servers\n",
    "\n",
    "To update a server, use `force=True` to replace it:"
   ]
  },
  {
   "cell_type": "code",
   "execution_count": 34,
   "metadata": {},
   "outputs": [
    {
     "name": "stdout",
     "output_type": "stream",
     "text": [
      "v1 response: {'message': 'Hello', 'version': '1.0'}\n"
     ]
    }
   ],
   "source": [
    "# Version 1\n",
    "def hello_v1():\n",
    "    return {\"message\": \"Hello\", \"version\": \"1.0\"}\n",
    "\n",
    "server_v1 = ss.create(\n",
    "    name=\"my_api\",\n",
    "    endpoints={\"/hello\": hello_v1}\n",
    ")\n",
    "\n",
    "print(\"v1 response:\", requests.get(f\"{server_v1.url}/hello\").json())"
   ]
  },
  {
   "cell_type": "code",
   "execution_count": 35,
   "metadata": {},
   "outputs": [
    {
     "name": "stdout",
     "output_type": "stream",
     "text": [
      "v2 response: {'message': 'Hello World!', 'version': '2.0', 'features': ['improved']}\n"
     ]
    }
   ],
   "source": [
    "# Version 2 - replace the existing server\n",
    "def hello_v2():\n",
    "    return {\"message\": \"Hello World!\", \"version\": \"2.0\", \"features\": [\"improved\"]}\n",
    "\n",
    "server_v2 = ss.create(\n",
    "    name=\"my_api\",  # Same name\n",
    "    endpoints={\"/hello\": hello_v2},\n",
    "    force=True  # Replace existing\n",
    ")\n",
    "\n",
    "print(\"v2 response:\", requests.get(f\"{server_v2.url}/hello\").json())"
   ]
  },
  {
   "cell_type": "code",
   "execution_count": 36,
   "metadata": {},
   "outputs": [
    {
     "data": {
      "text/html": [
       "\n",
       "        <div style=\"border: 1px solid #ddd; border-radius: 5px; padding: 15px; font-family: -apple-system, BlinkMacSystemFont, 'Segoe UI', Roboto, sans-serif;\">\n",
       "            <h3 style=\"margin: 0 0 10px 0; color: #333;\">🚀 my_api</h3>\n",
       "            <table style=\"width: 100%; border-collapse: collapse;\">\n",
       "                <tr>\n",
       "                    <td style=\"padding: 5px 10px 5px 0; color: #666; vertical-align: top;\">Status:</td>\n",
       "                    <td style=\"padding: 5px 0; color: #e74c3c; font-weight: bold;\">❌ Stopped</td>\n",
       "                </tr>\n",
       "                <tr>\n",
       "                    <td style=\"padding: 5px 10px 5px 0; color: #666; vertical-align: top;\">URL:</td>\n",
       "                    <td style=\"padding: 5px 0;\"><a href=\"http://localhost:8004\" target=\"_blank\" style=\"color: #3498db; text-decoration: none;\">http://localhost:8004</a></td>\n",
       "                </tr>\n",
       "                <tr>\n",
       "                    <td style=\"padding: 5px 10px 5px 0; color: #666; vertical-align: top;\">Endpoints:</td>\n",
       "                    <td style=\"padding: 5px 0;\"><ul style='margin: 0; padding-left: 20px;'><li><code>/hello</code></li></ul></td>\n",
       "                </tr>\n",
       "                <tr>\n",
       "                    <td style=\"padding: 5px 10px 5px 0; color: #666; vertical-align: top;\">Uptime:</td>\n",
       "                    <td style=\"padding: 5px 0;\">-</td>\n",
       "                </tr>\n",
       "                <tr>\n",
       "                    <td style=\"padding: 5px 10px 5px 0; color: #666; vertical-align: top;\">PID:</td>\n",
       "                    <td style=\"padding: 5px 0;\"><code>20418</code></td>\n",
       "                </tr>\n",
       "            </table>\n",
       "            \n",
       "            <div style=\"margin-top: 10px; padding: 8px; background: #f8f9fa; border-radius: 3px;\">\n",
       "                <div style=\"color: #666; font-size: 11px; margin-bottom: 5px;\">Recent logs:</div>\n",
       "                <div style=\"font-size: 11px; color: #333;\"><code>INFO:     127.0.0.1:60195 - \"GET /health HTTP/1.1\" 200 OK</code><br><code>INFO:     127.0.0.1:60324 - \"GET /health HTTP/1.1\" 200 OK</code><br><code>INFO:     127.0.0.1:60334 - \"GET /hello HTTP/1.1\" 200 OK</code></div>\n",
       "            </div>\n",
       "            \n",
       "            <div style=\"margin-top: 10px; padding-top: 10px; border-top: 1px solid #eee; font-size: 12px; color: #666;\">\n",
       "                Try: <code>server.stdout.tail(20)</code>, <code>server.env</code>, <code>server.terminate()</code>\n",
       "            </div>\n",
       "        </div>\n",
       "        "
      ],
      "text/plain": [
       "Server: my_api\n",
       "├── Status: ❌ Stopped\n",
       "├── URL: http://localhost:8004\n",
       "├── Endpoints: /hello\n",
       "├── Uptime: -\n",
       "└── PID: 20418"
      ]
     },
     "execution_count": 36,
     "metadata": {},
     "output_type": "execute_result"
    }
   ],
   "source": [
    "server_v1"
   ]
  },
  {
   "cell_type": "code",
   "execution_count": 37,
   "metadata": {},
   "outputs": [
    {
     "data": {
      "text/html": [
       "\n",
       "        <div style=\"border: 1px solid #ddd; border-radius: 5px; padding: 15px; font-family: -apple-system, BlinkMacSystemFont, 'Segoe UI', Roboto, sans-serif;\">\n",
       "            <h3 style=\"margin: 0 0 10px 0; color: #333;\">🚀 my_api</h3>\n",
       "            <table style=\"width: 100%; border-collapse: collapse;\">\n",
       "                <tr>\n",
       "                    <td style=\"padding: 5px 10px 5px 0; color: #666; vertical-align: top;\">Status:</td>\n",
       "                    <td style=\"padding: 5px 0; color: #27ae60; font-weight: bold;\">✅ Running</td>\n",
       "                </tr>\n",
       "                <tr>\n",
       "                    <td style=\"padding: 5px 10px 5px 0; color: #666; vertical-align: top;\">URL:</td>\n",
       "                    <td style=\"padding: 5px 0;\"><a href=\"http://localhost:8004\" target=\"_blank\" style=\"color: #3498db; text-decoration: none;\">http://localhost:8004</a></td>\n",
       "                </tr>\n",
       "                <tr>\n",
       "                    <td style=\"padding: 5px 10px 5px 0; color: #666; vertical-align: top;\">Endpoints:</td>\n",
       "                    <td style=\"padding: 5px 0;\"><ul style='margin: 0; padding-left: 20px;'><li><code>/hello</code></li></ul></td>\n",
       "                </tr>\n",
       "                <tr>\n",
       "                    <td style=\"padding: 5px 10px 5px 0; color: #666; vertical-align: top;\">Uptime:</td>\n",
       "                    <td style=\"padding: 5px 0;\">2s</td>\n",
       "                </tr>\n",
       "                <tr>\n",
       "                    <td style=\"padding: 5px 10px 5px 0; color: #666; vertical-align: top;\">PID:</td>\n",
       "                    <td style=\"padding: 5px 0;\"><code>20428</code></td>\n",
       "                </tr>\n",
       "            </table>\n",
       "            \n",
       "            <div style=\"margin-top: 10px; padding: 8px; background: #f8f9fa; border-radius: 3px;\">\n",
       "                <div style=\"color: #666; font-size: 11px; margin-bottom: 5px;\">Recent logs:</div>\n",
       "                <div style=\"font-size: 11px; color: #333;\"><code>INFO:     127.0.0.1:60389 - \"GET /health HTTP/1.1\" 200 OK</code><br><code>INFO:     127.0.0.1:60399 - \"GET /health HTTP/1.1\" 200 OK</code><br><code>INFO:     127.0.0.1:60409 - \"GET /health HTTP/1.1\" 200 OK</code></div>\n",
       "            </div>\n",
       "            \n",
       "            <div style=\"margin-top: 10px; padding-top: 10px; border-top: 1px solid #eee; font-size: 12px; color: #666;\">\n",
       "                Try: <code>server.stdout.tail(20)</code>, <code>server.env</code>, <code>server.terminate()</code>\n",
       "            </div>\n",
       "        </div>\n",
       "        "
      ],
      "text/plain": [
       "Server: my_api\n",
       "├── Status: ✅ Running\n",
       "├── URL: http://localhost:8004\n",
       "├── Endpoints: /hello\n",
       "├── Uptime: 2s\n",
       "└── PID: 20428"
      ]
     },
     "execution_count": 37,
     "metadata": {},
     "output_type": "execute_result"
    }
   ],
   "source": [
    "server_v2"
   ]
  },
  {
   "cell_type": "markdown",
   "metadata": {},
   "source": [
    "## Part 7: Server Persistence\n",
    "\n",
    "Servers continue running even after your notebook restarts!"
   ]
  },
  {
   "cell_type": "code",
   "execution_count": 38,
   "metadata": {},
   "outputs": [
    {
     "name": "stdout",
     "output_type": "stream",
     "text": [
      "✅ Created persistent server\n",
      "PID: 20432\n",
      "URL: http://localhost:8006\n",
      "\n",
      "💡 Try this:\n",
      "1. Restart your Jupyter kernel\n",
      "2. Import syft_serve again\n",
      "3. Check ss.servers - your server will still be there!\n"
     ]
    }
   ],
   "source": [
    "# Create a persistent server\n",
    "def persistent_endpoint():\n",
    "    import time\n",
    "    return {\"message\": \"I survive restarts!\", \"timestamp\": time.time()}\n",
    "\n",
    "persistent = ss.create(\n",
    "    name=\"persistent_demo\",\n",
    "    endpoints={\"/ping\": persistent_endpoint}\n",
    ")\n",
    "\n",
    "print(f\"✅ Created persistent server\")\n",
    "print(f\"PID: {persistent.pid}\")\n",
    "print(f\"URL: {persistent.url}\")\n",
    "\n",
    "print(\"\\n💡 Try this:\")\n",
    "print(\"1. Restart your Jupyter kernel\")\n",
    "print(\"2. Import syft_serve again\")\n",
    "print(\"3. Check ss.servers - your server will still be there!\")"
   ]
  },
  {
   "cell_type": "markdown",
   "metadata": {},
   "source": [
    "## Part 8: Real-World Example\n",
    "\n",
    "Let's create a file processing service (stateless):"
   ]
  },
  {
   "cell_type": "code",
   "execution_count": 39,
   "metadata": {},
   "outputs": [
    {
     "name": "stdout",
     "output_type": "stream",
     "text": [
      "Created data directory: /Users/atrask/Desktop/Laboratory/syft-serve/demo_data\n",
      "✅ File processor ready at http://localhost:8007\n"
     ]
    }
   ],
   "source": [
    "import json\n",
    "from pathlib import Path\n",
    "import os\n",
    "\n",
    "# Create a data directory\n",
    "current_dir = os.getcwd()\n",
    "data_dir = Path(current_dir) / \"demo_data\"\n",
    "data_dir.mkdir(exist_ok=True)\n",
    "\n",
    "print(f\"Created data directory: {data_dir}\")\n",
    "\n",
    "# File processing endpoint\n",
    "# Note: This function will be serialized and run in a different process\n",
    "# so we embed the path directly in the function\n",
    "def make_process_file_endpoint(base_path):\n",
    "    \"\"\"Factory function to create endpoint with embedded path\"\"\"\n",
    "    def process_file():\n",
    "        import time\n",
    "        import json\n",
    "        from pathlib import Path\n",
    "        \n",
    "        # Use the embedded path\n",
    "        data_dir = Path(base_path) / \"demo_data\"\n",
    "        data_dir.mkdir(exist_ok=True)\n",
    "        \n",
    "        input_file = data_dir / \"input.json\"\n",
    "        \n",
    "        # Read input\n",
    "        if input_file.exists():\n",
    "            with open(input_file) as f:\n",
    "                data = json.load(f)\n",
    "        else:\n",
    "            data = {\"count\": 0}\n",
    "        \n",
    "        # Process\n",
    "        data[\"count\"] = data.get(\"count\", 0) + 1\n",
    "        data[\"last_processed\"] = time.time()\n",
    "        \n",
    "        # Write output\n",
    "        output_file = data_dir / \"output.json\"\n",
    "        with open(output_file, \"w\") as f:\n",
    "            json.dump(data, f, indent=2)\n",
    "        \n",
    "        return {\"status\": \"processed\", \"count\": data[\"count\"]}\n",
    "    \n",
    "    return process_file\n",
    "\n",
    "# Create the endpoint with the current directory embedded\n",
    "process_file = make_process_file_endpoint(current_dir)\n",
    "\n",
    "# Create the processor\n",
    "processor = ss.create(\n",
    "    name=\"file_processor\",\n",
    "    endpoints={\"/process\": process_file}\n",
    ")\n",
    "\n",
    "print(f\"✅ File processor ready at {processor.url}\")"
   ]
  },
  {
   "cell_type": "code",
   "execution_count": 40,
   "metadata": {},
   "outputs": [
    {
     "name": "stdout",
     "output_type": "stream",
     "text": [
      "Request 1: {'status': 'processed', 'count': 11}\n",
      "Request 2: {'status': 'processed', 'count': 11}\n",
      "Request 3: {'status': 'processed', 'count': 11}\n",
      "\n",
      "Final output: {\n",
      "  \"count\": 11,\n",
      "  \"last_processed\": 1753590042.787484\n",
      "}\n"
     ]
    }
   ],
   "source": [
    "# Test the processor\n",
    "# Create initial input\n",
    "with open(data_dir / \"input.json\", \"w\") as f:\n",
    "    json.dump({\"count\": 10}, f)\n",
    "\n",
    "# Process multiple times\n",
    "for i in range(3):\n",
    "    response = requests.get(f\"{processor.url}/process\")\n",
    "    print(f\"Request {i+1}: {response.json()}\")\n",
    "\n",
    "# Check output file\n",
    "with open(data_dir / \"output.json\") as f:\n",
    "    print(f\"\\nFinal output: {json.dumps(json.load(f), indent=2)}\")"
   ]
  },
  {
   "cell_type": "markdown",
   "metadata": {},
   "source": [
    "## Part 9: Cleanup\n",
    "\n",
    "When you're done, terminate your servers:"
   ]
  },
  {
   "cell_type": "code",
   "execution_count": 41,
   "metadata": {},
   "outputs": [
    {
     "name": "stdout",
     "output_type": "stream",
     "text": [
      "✅ Terminated file_processor\n",
      "\n",
      "Remaining servers: 5\n"
     ]
    },
    {
     "data": {
      "text/html": [
       "\n",
       "        <div style=\"font-family: -apple-system, BlinkMacSystemFont, 'Segoe UI', Roboto, sans-serif;\">\n",
       "            <table style=\"border-collapse: collapse; width: 100%; margin-bottom: 10px;\">\n",
       "                <thead>\n",
       "                    <tr style=\"border-bottom: 2px solid #ddd;\">\n",
       "                        <th style=\"padding: 8px; text-align: left;\">Name</th>\n",
       "                        <th style=\"padding: 8px; text-align: left;\">Port</th>\n",
       "                        <th style=\"padding: 8px; text-align: left;\">Status</th>\n",
       "                        <th style=\"padding: 8px; text-align: left;\">Endpoints</th>\n",
       "                        <th style=\"padding: 8px; text-align: left;\">Uptime</th>\n",
       "                        <th style=\"padding: 8px; text-align: left;\">PID</th>\n",
       "                    </tr>\n",
       "                </thead>\n",
       "                <tbody>\n",
       "                    \n",
       "            <tr>\n",
       "                <td style=\"padding: 8px;\"><strong>hello_api</strong></td>\n",
       "                <td style=\"padding: 8px;\">8001</td>\n",
       "                <td style=\"padding: 8px; color: #27ae60;\">✅ Running</td>\n",
       "                <td style=\"padding: 8px;\"><code>/hello</code></td>\n",
       "                <td style=\"padding: 8px;\">15s</td>\n",
       "                <td style=\"padding: 8px;\"><code>20398</code></td>\n",
       "            </tr>\n",
       "            \n",
       "            <tr>\n",
       "                <td style=\"padding: 8px;\"><strong>time_api</strong></td>\n",
       "                <td style=\"padding: 8px;\">8002</td>\n",
       "                <td style=\"padding: 8px; color: #27ae60;\">✅ Running</td>\n",
       "                <td style=\"padding: 8px;\"><code>/time</code>, <code>/status</code></td>\n",
       "                <td style=\"padding: 8px;\">13s</td>\n",
       "                <td style=\"padding: 8px;\"><code>20402</code></td>\n",
       "            </tr>\n",
       "            \n",
       "            <tr>\n",
       "                <td style=\"padding: 8px;\"><strong>data_api</strong></td>\n",
       "                <td style=\"padding: 8px;\">8003</td>\n",
       "                <td style=\"padding: 8px; color: #27ae60;\">✅ Running</td>\n",
       "                <td style=\"padding: 8px;\"><code>/analyze</code></td>\n",
       "                <td style=\"padding: 8px;\">11s</td>\n",
       "                <td style=\"padding: 8px;\"><code>20413</code></td>\n",
       "            </tr>\n",
       "            \n",
       "            <tr>\n",
       "                <td style=\"padding: 8px;\"><strong>my_api</strong></td>\n",
       "                <td style=\"padding: 8px;\">8004</td>\n",
       "                <td style=\"padding: 8px; color: #27ae60;\">✅ Running</td>\n",
       "                <td style=\"padding: 8px;\"><code>/hello</code></td>\n",
       "                <td style=\"padding: 8px;\">6s</td>\n",
       "                <td style=\"padding: 8px;\"><code>20428</code></td>\n",
       "            </tr>\n",
       "            \n",
       "            <tr>\n",
       "                <td style=\"padding: 8px;\"><strong>persistent_demo</strong></td>\n",
       "                <td style=\"padding: 8px;\">8006</td>\n",
       "                <td style=\"padding: 8px; color: #27ae60;\">✅ Running</td>\n",
       "                <td style=\"padding: 8px;\"><code>/ping</code></td>\n",
       "                <td style=\"padding: 8px;\">4s</td>\n",
       "                <td style=\"padding: 8px;\"><code>20432</code></td>\n",
       "            </tr>\n",
       "            \n",
       "                </tbody>\n",
       "            </table>\n",
       "            <div style=\"color: #666; font-size: 14px;\">\n",
       "                5 servers (5 running, 0 stopped)\n",
       "            </div>\n",
       "        </div>\n",
       "        "
      ],
      "text/plain": [
       "Name               Port  Status      Endpoints       Uptime      PID\n",
       "---------------  ------  ----------  --------------  --------  -----\n",
       "hello_api          8001  ✅ Running  /hello          15s       20398\n",
       "time_api           8002  ✅ Running  /time, /status  13s       20402\n",
       "data_api           8003  ✅ Running  /analyze        11s       20413\n",
       "my_api             8004  ✅ Running  /hello          6s        20428\n",
       "persistent_demo    8006  ✅ Running  /ping           4s        20432\n",
       "5 servers (5 running, 0 stopped)"
      ]
     },
     "execution_count": 41,
     "metadata": {},
     "output_type": "execute_result"
    }
   ],
   "source": [
    "# Terminate a specific server\n",
    "if \"file_processor\" in ss.servers:\n",
    "    processor = ss.servers[\"file_processor\"]\n",
    "    processor.terminate()\n",
    "    print(f\"✅ Terminated {processor.name}\")\n",
    "\n",
    "# Check remaining servers\n",
    "print(f\"\\nRemaining servers: {len(ss.servers)}\")\n",
    "ss.servers"
   ]
  },
  {
   "cell_type": "code",
   "execution_count": 2,
   "metadata": {},
   "outputs": [],
   "source": [
    "import syft_serve as ss"
   ]
  },
  {
   "cell_type": "code",
   "execution_count": 3,
   "metadata": {},
   "outputs": [
    {
     "data": {
      "text/html": [
       "\n",
       "        <div style=\"font-family: -apple-system, BlinkMacSystemFont, 'Segoe UI', Roboto, sans-serif;\">\n",
       "            <table style=\"border-collapse: collapse; width: 100%; margin-bottom: 10px;\">\n",
       "                <thead>\n",
       "                    <tr style=\"border-bottom: 2px solid #ddd;\">\n",
       "                        <th style=\"padding: 8px; text-align: left;\">Name</th>\n",
       "                        <th style=\"padding: 8px; text-align: left;\">Port</th>\n",
       "                        <th style=\"padding: 8px; text-align: left;\">Status</th>\n",
       "                        <th style=\"padding: 8px; text-align: left;\">Endpoints</th>\n",
       "                        <th style=\"padding: 8px; text-align: left;\">Uptime</th>\n",
       "                        <th style=\"padding: 8px; text-align: left;\">PID</th>\n",
       "                    </tr>\n",
       "                </thead>\n",
       "                <tbody>\n",
       "                    \n",
       "            <tr>\n",
       "                <td style=\"padding: 8px;\"><strong>hello_api</strong></td>\n",
       "                <td style=\"padding: 8px;\">8001</td>\n",
       "                <td style=\"padding: 8px; color: #27ae60;\">✅ Running</td>\n",
       "                <td style=\"padding: 8px;\"><code>/hello</code></td>\n",
       "                <td style=\"padding: 8px;\">29s</td>\n",
       "                <td style=\"padding: 8px;\"><code>20398</code></td>\n",
       "            </tr>\n",
       "            \n",
       "            <tr>\n",
       "                <td style=\"padding: 8px;\"><strong>time_api</strong></td>\n",
       "                <td style=\"padding: 8px;\">8002</td>\n",
       "                <td style=\"padding: 8px; color: #27ae60;\">✅ Running</td>\n",
       "                <td style=\"padding: 8px;\"><code>/time</code>, <code>/status</code></td>\n",
       "                <td style=\"padding: 8px;\">27s</td>\n",
       "                <td style=\"padding: 8px;\"><code>20402</code></td>\n",
       "            </tr>\n",
       "            \n",
       "            <tr>\n",
       "                <td style=\"padding: 8px;\"><strong>data_api</strong></td>\n",
       "                <td style=\"padding: 8px;\">8003</td>\n",
       "                <td style=\"padding: 8px; color: #27ae60;\">✅ Running</td>\n",
       "                <td style=\"padding: 8px;\"><code>/analyze</code></td>\n",
       "                <td style=\"padding: 8px;\">25s</td>\n",
       "                <td style=\"padding: 8px;\"><code>20413</code></td>\n",
       "            </tr>\n",
       "            \n",
       "            <tr>\n",
       "                <td style=\"padding: 8px;\"><strong>my_api</strong></td>\n",
       "                <td style=\"padding: 8px;\">8004</td>\n",
       "                <td style=\"padding: 8px; color: #27ae60;\">✅ Running</td>\n",
       "                <td style=\"padding: 8px;\"><code>/hello</code></td>\n",
       "                <td style=\"padding: 8px;\">20s</td>\n",
       "                <td style=\"padding: 8px;\"><code>20428</code></td>\n",
       "            </tr>\n",
       "            \n",
       "            <tr>\n",
       "                <td style=\"padding: 8px;\"><strong>persistent_demo</strong></td>\n",
       "                <td style=\"padding: 8px;\">8006</td>\n",
       "                <td style=\"padding: 8px; color: #27ae60;\">✅ Running</td>\n",
       "                <td style=\"padding: 8px;\"><code>/ping</code></td>\n",
       "                <td style=\"padding: 8px;\">18s</td>\n",
       "                <td style=\"padding: 8px;\"><code>20432</code></td>\n",
       "            </tr>\n",
       "            \n",
       "                </tbody>\n",
       "            </table>\n",
       "            <div style=\"color: #666; font-size: 14px;\">\n",
       "                5 servers (5 running, 0 stopped)\n",
       "            </div>\n",
       "        </div>\n",
       "        "
      ],
      "text/plain": [
       "Name               Port  Status      Endpoints       Uptime      PID\n",
       "---------------  ------  ----------  --------------  --------  -----\n",
       "hello_api          8001  ✅ Running  /hello          29s       20398\n",
       "time_api           8002  ✅ Running  /time, /status  27s       20402\n",
       "data_api           8003  ✅ Running  /analyze        24s       20413\n",
       "my_api             8004  ✅ Running  /hello          20s       20428\n",
       "persistent_demo    8006  ✅ Running  /ping           18s       20432\n",
       "5 servers (5 running, 0 stopped)"
      ]
     },
     "execution_count": 3,
     "metadata": {},
     "output_type": "execute_result"
    }
   ],
   "source": [
    "ss.servers"
   ]
  },
  {
   "cell_type": "code",
   "execution_count": 4,
   "metadata": {},
   "outputs": [
    {
     "name": "stdout",
     "output_type": "stream",
     "text": [
      "✅ All servers terminated\n"
     ]
    }
   ],
   "source": [
    "# When completely done, terminate ALL servers\n",
    "# This also finds and terminates any orphaned processes\n",
    "ss.terminate_all()\n",
    "print(\"✅ All servers terminated\")"
   ]
  },
  {
   "cell_type": "code",
   "execution_count": 5,
   "metadata": {},
   "outputs": [
    {
     "data": {
      "text/html": [
       "<p style='color: #888;'>No servers</p>"
      ],
      "text/plain": [
       "No servers"
      ]
     },
     "execution_count": 5,
     "metadata": {},
     "output_type": "execute_result"
    }
   ],
   "source": [
    "ss.servers"
   ]
  },
  {
   "cell_type": "markdown",
   "metadata": {},
   "source": [
    "## Summary\n",
    "\n",
    "SyftServe provides just two functions:\n",
    "\n",
    "✅ **`ss.create(name, endpoints)`** - Create a server  \n",
    "✅ **`ss.terminate_all()`** - Terminate all servers  \n",
    "\n",
    "Access servers with:\n",
    "- **`ss.servers`** - View all servers\n",
    "- **`ss.servers[\"name\"]`** - Get server by name\n",
    "- **`server.stdout.tail(20)`** - View logs\n",
    "- **`server.terminate()`** - Terminate one server\n",
    "\n",
    "## Key Features\n",
    "\n",
    "1. **Simple** - Just create and terminate\n",
    "2. **Named servers** - No more port confusion\n",
    "3. **Persistent** - Survives notebook restarts\n",
    "4. **Isolated** - Each server has its own environment\n",
    "5. **Clean** - Properly terminates all processes\n",
    "\n",
    "Happy serving! 🚀"
   ]
  },
  {
   "cell_type": "code",
   "execution_count": null,
   "metadata": {},
   "outputs": [],
   "source": []
  }
 ],
 "metadata": {
  "kernelspec": {
   "display_name": "Python 3 (ipykernel)",
   "language": "python",
   "name": "python3"
  },
  "language_info": {
   "codemirror_mode": {
    "name": "ipython",
    "version": 3
   },
   "file_extension": ".py",
   "mimetype": "text/x-python",
   "name": "python",
   "nbconvert_exporter": "python",
   "pygments_lexer": "ipython3",
   "version": "3.12.9"
  }
 },
 "nbformat": 4,
 "nbformat_minor": 4
}

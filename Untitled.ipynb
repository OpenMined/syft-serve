{
 "cells": [
  {
   "cell_type": "code",
   "execution_count": 1,
   "id": "fb8459f3-226a-4674-b183-976d60e7fa0f",
   "metadata": {},
   "outputs": [],
   "source": [
    "import syft_serve as ss"
   ]
  },
  {
   "cell_type": "code",
   "execution_count": 2,
   "id": "582a8c5a-70f6-423e-8921-6fb4de682ea2",
   "metadata": {},
   "outputs": [],
   "source": [
    "def hello():\n",
    "    return \"Hi!\""
   ]
  },
  {
   "cell_type": "code",
   "execution_count": 3,
   "id": "d785fe3e-30ae-4c5e-a2ba-de2d1c9e6e2c",
   "metadata": {},
   "outputs": [],
   "source": [
    "server = ss.create(\"hello_api\",\n",
    "                   endpoints={\"/hello\":hello})"
   ]
  },
  {
   "cell_type": "code",
   "execution_count": 8,
   "id": "315f5ad2-0963-450a-9f80-33da477281b9",
   "metadata": {},
   "outputs": [],
   "source": [
    "ss.servers['hello_api'].terminate()"
   ]
  },
  {
   "cell_type": "code",
   "execution_count": 9,
   "id": "f8b821bb-ce8c-4fb7-aa07-e72ac8d0b8f0",
   "metadata": {},
   "outputs": [
    {
     "data": {
      "text/html": [
       "<p style='color: #666;'>No servers</p>"
      ],
      "text/plain": [
       "No servers"
      ]
     },
     "execution_count": 9,
     "metadata": {},
     "output_type": "execute_result"
    }
   ],
   "source": [
    "ss.servers"
   ]
  },
  {
   "cell_type": "code",
   "execution_count": null,
   "id": "c6ca2a48-7927-41bb-8b15-264f7f505a52",
   "metadata": {},
   "outputs": [],
   "source": []
  }
 ],
 "metadata": {
  "kernelspec": {
   "display_name": "Python 3 (ipykernel)",
   "language": "python",
   "name": "python3"
  },
  "language_info": {
   "codemirror_mode": {
    "name": "ipython",
    "version": 3
   },
   "file_extension": ".py",
   "mimetype": "text/x-python",
   "name": "python",
   "nbconvert_exporter": "python",
   "pygments_lexer": "ipython3",
   "version": "3.12.9"
  }
 },
 "nbformat": 4,
 "nbformat_minor": 5
}

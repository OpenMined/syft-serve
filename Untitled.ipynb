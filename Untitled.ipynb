{
 "cells": [
  {
   "cell_type": "code",
   "execution_count": 1,
   "id": "e8e4ddc9-4adb-4217-8265-ff8a76483e1d",
   "metadata": {},
   "outputs": [],
   "source": [
    "import syft_serve as ss"
   ]
  },
  {
   "cell_type": "code",
   "execution_count": 3,
   "id": "f4babd45-65f7-4008-b7d7-4f993f8280e3",
   "metadata": {},
   "outputs": [],
   "source": [
    "def hello():\n",
    "    print(asdf)\n",
    "    return \"hello world\""
   ]
  },
  {
   "cell_type": "code",
   "execution_count": 4,
   "id": "54fdee83-c4ce-4bd4-bdaf-7e29768e580d",
   "metadata": {},
   "outputs": [
    {
     "data": {
      "text/html": [
       "\n",
       "        <div style=\"border: 1px solid #ddd; border-radius: 5px; padding: 15px; font-family: -apple-system, BlinkMacSystemFont, 'Segoe UI', Roboto, sans-serif;\">\n",
       "            <h3 style=\"margin: 0 0 10px 0; color: #333;\">🚀 hello_test</h3>\n",
       "            <table style=\"width: 100%; border-collapse: collapse;\">\n",
       "                <tr>\n",
       "                    <td style=\"padding: 5px 10px 5px 0; color: #666; vertical-align: top;\">Status:</td>\n",
       "                    <td style=\"padding: 5px 0; color: #27ae60; font-weight: bold;\">✅ Running</td>\n",
       "                </tr>\n",
       "                <tr>\n",
       "                    <td style=\"padding: 5px 10px 5px 0; color: #666; vertical-align: top;\">URL:</td>\n",
       "                    <td style=\"padding: 5px 0;\"><a href=\"http://localhost:8000\" target=\"_blank\" style=\"color: #3498db; text-decoration: none;\">http://localhost:8000</a></td>\n",
       "                </tr>\n",
       "                <tr>\n",
       "                    <td style=\"padding: 5px 10px 5px 0; color: #666; vertical-align: top;\">Endpoints:</td>\n",
       "                    <td style=\"padding: 5px 0;\"><ul style='margin: 0; padding-left: 20px;'><li><code>/hello</code></li></ul></td>\n",
       "                </tr>\n",
       "                <tr>\n",
       "                    <td style=\"padding: 5px 10px 5px 0; color: #666; vertical-align: top;\">Uptime:</td>\n",
       "                    <td style=\"padding: 5px 0;\">2s</td>\n",
       "                </tr>\n",
       "                <tr>\n",
       "                    <td style=\"padding: 5px 10px 5px 0; color: #666; vertical-align: top;\">PID:</td>\n",
       "                    <td style=\"padding: 5px 0;\"><code>28295</code></td>\n",
       "                </tr>\n",
       "            </table>\n",
       "            \n",
       "            <div style=\"margin-top: 10px; padding: 8px; background: #f8f9fa; border-radius: 3px;\">\n",
       "                <div style=\"color: #666; font-size: 11px; margin-bottom: 5px;\">Recent logs:</div>\n",
       "                <div style=\"font-size: 11px; color: #333;\"><code>INFO:     127.0.0.1:53661 - \"GET /health HTTP/1.1\" 200 OK</code><br><code>INFO:     127.0.0.1:53669 - \"GET /health HTTP/1.1\" 200 OK</code><br><code>INFO:     127.0.0.1:53677 - \"GET /health HTTP/1.1\" 200 OK</code></div>\n",
       "            </div>\n",
       "            \n",
       "            <div style=\"margin-top: 10px; padding-top: 10px; border-top: 1px solid #eee; font-size: 12px; color: #666;\">\n",
       "                Try: <code>server.stdout.tail(20)</code>, <code>server.env</code>, <code>server.terminate()</code>\n",
       "            </div>\n",
       "        </div>\n",
       "        "
      ],
      "text/plain": [
       "Server: hello_test\n",
       "├── Status: ✅ Running\n",
       "├── URL: http://localhost:8000\n",
       "├── Endpoints: /hello\n",
       "├── Uptime: 2s\n",
       "└── PID: 28295"
      ]
     },
     "execution_count": 4,
     "metadata": {},
     "output_type": "execute_result"
    }
   ],
   "source": [
    "ss.create(name=\"hello_test\", endpoints={\"/hello\": hello})"
   ]
  },
  {
   "cell_type": "code",
   "execution_count": 7,
   "id": "bc0b5ae6-fecf-45d2-b25b-a6b1c4aa3715",
   "metadata": {},
   "outputs": [],
   "source": [
    "s = ss.servers"
   ]
  },
  {
   "cell_type": "code",
   "execution_count": 10,
   "id": "c3c3c295-5af5-4dc4-896f-2ee7391c830a",
   "metadata": {},
   "outputs": [
    {
     "data": {
      "text/html": [
       "\n",
       "        <div style=\"font-family: -apple-system, BlinkMacSystemFont, 'Segoe UI', Roboto, sans-serif;\">\n",
       "            <table style=\"border-collapse: collapse; width: 100%; margin-bottom: 10px;\">\n",
       "                <thead>\n",
       "                    <tr style=\"border-bottom: 2px solid #ddd;\">\n",
       "                        <th style=\"padding: 8px; text-align: left;\">Name</th>\n",
       "                        <th style=\"padding: 8px; text-align: left;\">Port</th>\n",
       "                        <th style=\"padding: 8px; text-align: left;\">Status</th>\n",
       "                        <th style=\"padding: 8px; text-align: left;\">Endpoints</th>\n",
       "                        <th style=\"padding: 8px; text-align: left;\">Uptime</th>\n",
       "                        <th style=\"padding: 8px; text-align: left;\">PID</th>\n",
       "                    </tr>\n",
       "                </thead>\n",
       "                <tbody>\n",
       "                    \n",
       "            <tr>\n",
       "                <td style=\"padding: 8px;\"><strong>hello_test</strong></td>\n",
       "                <td style=\"padding: 8px;\">8000</td>\n",
       "                <td style=\"padding: 8px; color: #27ae60;\">✅ Running</td>\n",
       "                <td style=\"padding: 8px;\"><code>/hello</code></td>\n",
       "                <td style=\"padding: 8px;\">34s</td>\n",
       "                <td style=\"padding: 8px;\"><code>28295</code></td>\n",
       "            </tr>\n",
       "            \n",
       "                </tbody>\n",
       "            </table>\n",
       "            <div style=\"color: #666; font-size: 14px;\">\n",
       "                1 servers (1 running, 0 stopped)\n",
       "            </div>\n",
       "        </div>\n",
       "        "
      ],
      "text/plain": [
       "Name          Port  Status      Endpoints    Uptime      PID\n",
       "----------  ------  ----------  -----------  --------  -----\n",
       "hello_test    8000  ✅ Running  /hello       34s       28295\n",
       "1 servers (1 running, 0 stopped)"
      ]
     },
     "execution_count": 10,
     "metadata": {},
     "output_type": "execute_result"
    }
   ],
   "source": [
    "s"
   ]
  },
  {
   "cell_type": "code",
   "execution_count": null,
   "id": "8cecd06d-5cc6-41c0-8edf-c5080ab08df1",
   "metadata": {},
   "outputs": [],
   "source": []
  },
  {
   "cell_type": "code",
   "execution_count": null,
   "id": "d5cb6f97-c3da-483c-a8ac-d8dd8b7d896d",
   "metadata": {},
   "outputs": [],
   "source": []
  },
  {
   "cell_type": "code",
   "execution_count": 16,
   "id": "e0a36a34-6099-4a15-b097-1238c34a96a5",
   "metadata": {},
   "outputs": [],
   "source": [
    "s = ss.servers[0]"
   ]
  },
  {
   "cell_type": "code",
   "execution_count": 20,
   "id": "68437234-a8b8-4ef1-a4d7-1a561466d420",
   "metadata": {},
   "outputs": [
    {
     "data": {
      "text/plain": [
       "<LogStream stderr>\n",
       "             ^^^^^^^^^^^^^^^^^^^^^^^^\n",
       "  File \"/Users/atrask/.syft_logs/server_envs/hello_test/hello_test_app.py\", line 64, in endpoint_hello\n",
       "    print(asdf)\n",
       "          ^^^^\n",
       "NameError: name 'asdf' is not defined"
      ]
     },
     "execution_count": 20,
     "metadata": {},
     "output_type": "execute_result"
    }
   ],
   "source": [
    "s.stderr"
   ]
  },
  {
   "cell_type": "code",
   "execution_count": null,
   "id": "c5ad6944-f136-497e-b10c-2557cf654bb3",
   "metadata": {},
   "outputs": [],
   "source": []
  },
  {
   "cell_type": "code",
   "execution_count": 9,
   "id": "4e758634-d6e0-4c25-a141-4b10b89bfd4e",
   "metadata": {},
   "outputs": [],
   "source": [
    "ss.servers[0].terminate()"
   ]
  },
  {
   "cell_type": "code",
   "execution_count": null,
   "id": "be94ed2f-0f66-4a88-b286-19f2ed097311",
   "metadata": {},
   "outputs": [],
   "source": []
  }
 ],
 "metadata": {
  "kernelspec": {
   "display_name": "Python 3 (ipykernel)",
   "language": "python",
   "name": "python3"
  },
  "language_info": {
   "codemirror_mode": {
    "name": "ipython",
    "version": 3
   },
   "file_extension": ".py",
   "mimetype": "text/x-python",
   "name": "python",
   "nbconvert_exporter": "python",
   "pygments_lexer": "ipython3",
   "version": "3.12.9"
  }
 },
 "nbformat": 4,
 "nbformat_minor": 5
}
